{
 "cells": [
  {
   "cell_type": "code",
   "execution_count": 1,
   "metadata": {},
   "outputs": [],
   "source": [
    "import torch\n",
    "import os\n",
    "import matplotlib.pyplot as plt"
   ]
  },
  {
   "cell_type": "code",
   "execution_count": 24,
   "metadata": {},
   "outputs": [],
   "source": [
    "from  torch_geometric.nn import GCNConv\n",
    "from torch.nn import ModuleList"
   ]
  },
  {
   "cell_type": "code",
   "execution_count": 25,
   "metadata": {},
   "outputs": [
    {
     "data": {
      "text/plain": [
       "ModuleList(\n",
       "  (0): GCNConv(16, 32)\n",
       ")"
      ]
     },
     "execution_count": 25,
     "metadata": {},
     "output_type": "execute_result"
    }
   ],
   "source": [
    "l = GCNConv(16, 32, improved=False, cached=True, add_self_loops=True)\n",
    "for param in l.parameters():\n",
    "    param.requires_grad = False\n",
    "ml = ModuleList()\n",
    "ml.append(l)"
   ]
  },
  {
   "cell_type": "code",
   "execution_count": 26,
   "metadata": {},
   "outputs": [
    {
     "name": "stdout",
     "output_type": "stream",
     "text": [
      "tensor([[16, 81, 17,  ..., 58, 92, 60],\n",
      "        [57, 21, 39,  ..., 42, 33, 80]])\n"
     ]
    }
   ],
   "source": [
    "import torch\n",
    "x = torch.randn(100, 16)\n",
    "edge_index = torch.randint(0, 100, (2, 1000))\n",
    "edge_weight = torch.randn(1000)\n",
    "edge_weight.requires_grad = True\n",
    "print(edge_index)"
   ]
  },
  {
   "cell_type": "code",
   "execution_count": 29,
   "metadata": {},
   "outputs": [
    {
     "data": {
      "text/plain": [
       "GCNConv(16, 32)"
      ]
     },
     "execution_count": 29,
     "metadata": {},
     "output_type": "execute_result"
    }
   ],
   "source": [
    "ml[0]"
   ]
  },
  {
   "cell_type": "code",
   "execution_count": 28,
   "metadata": {},
   "outputs": [
    {
     "data": {
      "text/plain": [
       "True"
      ]
     },
     "execution_count": 28,
     "metadata": {},
     "output_type": "execute_result"
    }
   ],
   "source": [
    "o = ml[0](x, edge_index,edge_weight)\n",
    "o.requires_grad"
   ]
  },
  {
   "cell_type": "code",
   "execution_count": 2,
   "metadata": {},
   "outputs": [],
   "source": [
    "# load files in folder\n",
    "def load_files(folder):\n",
    "    probs0 = []\n",
    "    probs1 = []\n",
    "    predictions1 = []\n",
    "    predictions0 = []\n",
    "    for file in os.listdir(folder):\n",
    "        if file.endswith(\".pt\"):\n",
    "            s = file.split(\"_\")\n",
    "            f = os.path.join(folder,file)\n",
    "            p = probs0 if s[2] == \"0\" else probs1\n",
    "            predictions = predictions0 if s[2] == \"0\" else predictions1\n",
    "            pred = torch.load(f)\n",
    "            probs = pred.get_probabilities(propagated=True)\n",
    "            p.append(probs)\n",
    "            predictions.append(pred)\n",
    "            \n",
    "    return probs0, probs1, predictions0, predictions1"
   ]
  },
  {
   "cell_type": "code",
   "execution_count": 3,
   "metadata": {},
   "outputs": [
    {
     "name": "stderr",
     "output_type": "stream",
     "text": [
      "/tmp/ipykernel_911442/2546805646.py:13: FutureWarning: You are using `torch.load` with `weights_only=False` (the current default value), which uses the default pickle module implicitly. It is possible to construct malicious pickle data which will execute arbitrary code during unpickling (See https://github.com/pytorch/pytorch/blob/main/SECURITY.md#untrusted-models for more details). In a future release, the default value for `weights_only` will be flipped to `True`. This limits the functions that could be executed during unpickling. Arbitrary objects will no longer be allowed to be loaded via this mode unless they are explicitly allowlisted by the user via `torch.serialization.add_safe_globals`. We recommend you start setting `weights_only=True` for any use case where you don't have full control of the loaded file. Please open an issue on GitHub for any issues related to this experimental feature.\n",
      "  pred = torch.load(f)\n"
     ]
    }
   ],
   "source": [
    "probs0, probs1, p0,p1 = load_files(\"../tta\")"
   ]
  },
  {
   "cell_type": "code",
   "execution_count": 4,
   "metadata": {},
   "outputs": [
    {
     "name": "stdout",
     "output_type": "stream",
     "text": [
      "tensor(0.1698, device='cuda:0')\n",
      "tensor(0.2378, device='cuda:0')\n"
     ]
    }
   ],
   "source": [
    "ix = 11\n",
    "first = probs0[ix][0]\n",
    "last = torch.softmax(p1[ix].get_logits(propagated=True)/101, dim=-1)[0]\n",
    "print(first.std())\n",
    "print(last.std())"
   ]
  },
  {
   "cell_type": "code",
   "execution_count": 78,
   "metadata": {},
   "outputs": [
    {
     "name": "stdout",
     "output_type": "stream",
     "text": [
      "tensor(2610, device='cuda:0') tensor(1102, device='cuda:0')\n",
      "0\n"
     ]
    }
   ],
   "source": [
    "cnt = 0\n",
    "for k in range(len(p0)):\n",
    "    op = torch.softmax(p0[k].get_logits(propagated=True)[0],dim=-1)\n",
    "    sp = torch.softmax((p0[k].get_logits(propagated=True)*100)[0],dim=-1)\n",
    "    \n",
    "    fc = op.max(-1)[0].argmin()\n",
    "    lc = sp.max(-1)[0].argmin()\n",
    "    print(fc,lc)\n",
    "    break\n",
    "    # if torch.softmax(p0[k].get_logits(propagated=True)[0],dim=-1).max(-1)[0].argmin() != torch.softmax((p0[k].get_logits(propagated=True)*100)[0],dim=-1).max(-1)[0].argmin():\n",
    "    #     cnt += 1 \n",
    "print(cnt)"
   ]
  },
  {
   "cell_type": "code",
   "execution_count": 83,
   "metadata": {},
   "outputs": [
    {
     "name": "stdout",
     "output_type": "stream",
     "text": [
      "tensor(0.1993, device='cuda:0') tensor(0.3311, device='cuda:0')\n",
      "tensor(1., device='cuda:0') tensor(0.5240, device='cuda:0')\n"
     ]
    }
   ],
   "source": [
    "print(op[fc].max(),op[lc].max())\n",
    "print(sp[fc].max(),sp[lc].max())"
   ]
  },
  {
   "cell_type": "code",
   "execution_count": 86,
   "metadata": {},
   "outputs": [
    {
     "data": {
      "text/plain": [
       "(tensor([0.1993, 0.1333, 0.1673, 0.1587, 0.1497, 0.0713, 0.1205],\n",
       "        device='cuda:0'),\n",
       " tensor([1.0000e+00, 3.3941e-18, 2.5883e-08, 1.2672e-10, 3.6573e-13, 2.8026e-45,\n",
       "         1.4123e-22], device='cuda:0'))"
      ]
     },
     "execution_count": 86,
     "metadata": {},
     "output_type": "execute_result"
    }
   ],
   "source": [
    "op[fc],sp[fc]"
   ]
  },
  {
   "cell_type": "code",
   "execution_count": 85,
   "metadata": {},
   "outputs": [
    {
     "data": {
      "text/plain": [
       "(tensor([0.3307, 0.1640, 0.0230, 0.0301, 0.1071, 0.3311, 0.0141],\n",
       "        device='cuda:0'),\n",
       " tensor([4.7599e-01, 1.6219e-31, 0.0000e+00, 0.0000e+00, 0.0000e+00, 5.2401e-01,\n",
       "         0.0000e+00], device='cuda:0'))"
      ]
     },
     "execution_count": 85,
     "metadata": {},
     "output_type": "execute_result"
    }
   ],
   "source": [
    "op[lc],sp[lc]"
   ]
  },
  {
   "cell_type": "code",
   "execution_count": 90,
   "metadata": {},
   "outputs": [],
   "source": [
    "l = (p1[ix].get_logits(propagated=True)/101)[0].cpu().detach()\n",
    "f = p0[ix].get_logits(propagated=True)[0].cpu().detach()"
   ]
  },
  {
   "cell_type": "code",
   "execution_count": 100,
   "metadata": {},
   "outputs": [
    {
     "data": {
      "image/png": "[encoded data removed]",
      "text/plain": [
       "<Figure size 640x480 with 1 Axes>"
      ]
     },
     "metadata": {},
     "output_type": "display_data"
    }
   ],
   "source": [
    "plt.hist((l-f).flatten(), bins=100)\n",
    "plt.show()"
   ]
  },
  {
   "cell_type": "code",
   "execution_count": 101,
   "metadata": {},
   "outputs": [
    {
     "data": {
      "image/png": "[encoded data removed]",
      "text/plain": [
       "<Figure size 640x480 with 1 Axes>"
      ]
     },
     "metadata": {},
     "output_type": "display_data"
    }
   ],
   "source": [
    "plt.hist((l-f).abs().mean(dim=-1).flatten(),bins=100)\n",
    "plt.show()"
   ]
  },
  {
   "cell_type": "code",
   "execution_count": 96,
   "metadata": {},
   "outputs": [
    {
     "data": {
      "image/png": "[encoded data removed]",
      "text/plain": [
       "<Figure size 640x480 with 1 Axes>"
      ]
     },
     "metadata": {},
     "output_type": "display_data"
    }
   ],
   "source": [
    "jx = 1\n",
    "# plt.bar(range(7), l[jx] - f[jx])\n",
    "plt.bar(range(7), l[jx], alpha=0.5, label='l[jx]')\n",
    "plt.bar(range(7), f[jx], alpha=0.5, label='f[jx]')\n",
    "plt.legend()\n",
    "plt.xlabel('Index')\n",
    "plt.ylabel('Value')\n",
    "plt.title('Comparison of l[jx] and f[jx]')\n",
    "plt.show()\n"
   ]
  },
  {
   "cell_type": "code",
   "execution_count": 60,
   "metadata": {},
   "outputs": [
    {
     "data": {
      "text/plain": [
       "array([ 1.7785448 , -0.0663761 , -0.8213744 , -0.02669439, -3.4290485 ,\n",
       "       -1.0846438 ,  0.25266722], dtype=float32)"
      ]
     },
     "execution_count": 60,
     "metadata": {},
     "output_type": "execute_result"
    }
   ],
   "source": [
    "f[0]"
   ]
  },
  {
   "cell_type": "code",
   "execution_count": 37,
   "metadata": {},
   "outputs": [
    {
     "data": {
      "text/plain": [
       "(tensor(0.4773, device='cuda:0'), tensor(0.6632, device='cuda:0'))"
      ]
     },
     "execution_count": 37,
     "metadata": {},
     "output_type": "execute_result"
    }
   ],
   "source": [
    "# TTA MAKES PREDICTIONS MORE CONFIDENT\n",
    "first.max(dim=1)[0].mean(), last.max(dim=1)[0].mean()"
   ]
  },
  {
   "cell_type": "code",
   "execution_count": 38,
   "metadata": {},
   "outputs": [
    {
     "data": {
      "text/plain": [
       "(tensor(0.1679, device='cuda:0'),\n",
       " tensor(0.6931, device='cuda:0'),\n",
       " tensor(-0.9990, device='cuda:0'),\n",
       " tensor(0.0272, device='cuda:0'))"
      ]
     },
     "execution_count": 38,
     "metadata": {},
     "output_type": "execute_result"
    }
   ],
   "source": [
    "diff = first-last\n",
    "diff.std(), diff.max(), diff.min(), diff.median()"
   ]
  },
  {
   "cell_type": "code",
   "execution_count": 39,
   "metadata": {},
   "outputs": [],
   "source": [
    "max_values = last.max(1)[0]\n",
    "num_bins = 100\n",
    "bin_counts = torch.histc(max_values, bins=num_bins).cpu().numpy()\n"
   ]
  },
  {
   "cell_type": "code",
   "execution_count": 40,
   "metadata": {},
   "outputs": [
    {
     "data": {
      "text/plain": [
       "torch.Size([2810, 7])"
      ]
     },
     "execution_count": 40,
     "metadata": {},
     "output_type": "execute_result"
    }
   ],
   "source": [
    "last.shape"
   ]
  },
  {
   "cell_type": "code",
   "execution_count": 41,
   "metadata": {},
   "outputs": [
    {
     "name": "stdout",
     "output_type": "stream",
     "text": [
      "tensor(0.3509, device='cuda:0') tensor(0.6491, device='cuda:0')\n",
      "tensor(0.3336, device='cuda:0') tensor(0.1000, device='cuda:0')\n",
      "tensor(0.5893, device='cuda:0') tensor(0.2365, device='cuda:0')\n"
     ]
    }
   ],
   "source": [
    "prediction_change = (first.argmax(dim=1) != last.argmax(dim=1))\n",
    "prediction_not_change = (first.argmax(dim=1) == last.argmax(dim=1))\n",
    "print(prediction_change.sum()/first.shape[0], prediction_not_change.sum()/first.shape[0])\n",
    "print(first[prediction_change].max(dim=1)[0].mean(), first[prediction_change].max(dim=1)[0].std())\n",
    "print(last[prediction_change].max(dim=1)[0].mean(),last[prediction_change].max(dim=1)[0].std())"
   ]
  },
  {
   "cell_type": "code",
   "execution_count": 42,
   "metadata": {},
   "outputs": [
    {
     "name": "stdout",
     "output_type": "stream",
     "text": [
      "tensor(0.5550, device='cuda:0') tensor(0.2083, device='cuda:0')\n",
      "tensor(0.7032, device='cuda:0') tensor(0.2195, device='cuda:0')\n"
     ]
    }
   ],
   "source": [
    "# PREDICTIONS CHANGES FOR LESS CONFIDENT PREDICTIONS\n",
    "print(first[prediction_not_change].max(dim=1)[0].mean(), first[prediction_not_change].max(dim=1)[0].std())\n",
    "print(last[prediction_not_change].max(dim=1)[0].mean(),last[prediction_not_change].max(dim=1)[0].std())"
   ]
  },
  {
   "cell_type": "code",
   "execution_count": 43,
   "metadata": {},
   "outputs": [
    {
     "name": "stdout",
     "output_type": "stream",
     "text": [
      "tensor([371, 395,  71,   6,   0,  12, 131], device='cuda:0')\n",
      "tensor([ 44,  18,  28, 333, 475,  33,  55], device='cuda:0')\n"
     ]
    }
   ],
   "source": [
    "print(torch.bincount(first[prediction_change].argmax(dim=1)))\n",
    "print(torch.bincount(last[prediction_change].argmax(dim=1)))"
   ]
  },
  {
   "cell_type": "code",
   "execution_count": 44,
   "metadata": {},
   "outputs": [
    {
     "name": "stdout",
     "output_type": "stream",
     "text": [
      "[[  0   9  17  68 235  11  31]\n",
      " [ 34   0   3 225  92  22  19]\n",
      " [  0   1   0   0  65   0   5]\n",
      " [  1   1   2   0   2   0   0]\n",
      " [  0   0   0   0   0   0   0]\n",
      " [  6   3   0   1   2   0   0]\n",
      " [  3   4   6  39  79   0   0]]\n"
     ]
    },
    {
     "data": {
      "image/png": "[encoded data removed]",
      "text/plain": [
       "<Figure size 500x400 with 2 Axes>"
      ]
     },
     "metadata": {},
     "output_type": "display_data"
    }
   ],
   "source": [
    "from collections import Counter\n",
    "import numpy as np\n",
    "import seaborn as sns\n",
    "\n",
    "# first[prediction_change].argmax(dim=1)\n",
    "first_pairs = Counter(zip(first[prediction_change].argmax(dim=1).cpu().numpy(), last[prediction_change].argmax(dim=1).cpu().numpy()))\n",
    "# print(first_pairs)\n",
    "# Create a matrix from the Counter\n",
    "matrix_size = (max(first_pairs.keys(), key=lambda x: x[0])[0] + 1, max(first_pairs.keys(), key=lambda x: x[1])[1] + 1)\n",
    "matrix = np.zeros(matrix_size, dtype=int)\n",
    "\n",
    "for (i, j), count in first_pairs.items():\n",
    "    matrix[i, j] = count\n",
    "\n",
    "print(matrix)\n",
    "plt.figure(figsize=(5,4))\n",
    "sns.heatmap(matrix, annot=True, fmt=\"d\", cmap=\"YlGnBu\")\n",
    "plt.xlabel('Last Prediction')\n",
    "plt.ylabel('First Prediction')\n",
    "plt.title('Heatmap of Prediction Changes')\n",
    "plt.show()\n"
   ]
  },
  {
   "cell_type": "code",
   "execution_count": 187,
   "metadata": {},
   "outputs": [
    {
     "name": "stderr",
     "output_type": "stream",
     "text": [
      "/tmp/ipykernel_798644/2229006065.py:1: FutureWarning: You are using `torch.load` with `weights_only=False` (the current default value), which uses the default pickle module implicitly. It is possible to construct malicious pickle data which will execute arbitrary code during unpickling (See https://github.com/pytorch/pytorch/blob/main/SECURITY.md#untrusted-models for more details). In a future release, the default value for `weights_only` will be flipped to `True`. This limits the functions that could be executed during unpickling. Arbitrary objects will no longer be allowed to be loaded via this mode unless they are explicitly allowlisted by the user via `torch.serialization.add_safe_globals`. We recommend you start setting `weights_only=True` for any use case where you don't have full control of the loaded file. Please open an issue on GitHub for any issues related to this experimental feature.\n",
      "  appr = torch.load(\"../A_ppr.pt\")\n"
     ]
    },
    {
     "data": {
      "text/plain": [
       "torch.return_types.max(\n",
       "values=tensor([0.1503, 0.1503, 0.1503,  ..., 0.1503, 0.1503, 0.1503]),\n",
       "indices=tensor([   0,    1,    2,  ..., 2806, 2807, 2808]))"
      ]
     },
     "execution_count": 187,
     "metadata": {},
     "output_type": "execute_result"
    }
   ],
   "source": [
    "appr = torch.load(\"../A_ppr.pt\")\n",
    "appr[1:,1:].max(dim=1)"
   ]
  },
  {
   "cell_type": "code",
   "execution_count": 227,
   "metadata": {},
   "outputs": [
    {
     "data": {
      "text/plain": [
       "tensor([[0., 1., 0., 1., 1.],\n",
       "        [1., 0., 0., 0., 0.],\n",
       "        [1., 0., 0., 1., 1.],\n",
       "        [0., 1., 1., 0., 1.],\n",
       "        [0., 1., 1., 0., 0.]])"
      ]
     },
     "execution_count": 227,
     "metadata": {},
     "output_type": "execute_result"
    }
   ],
   "source": [
    "# Define the size of the matrix\n",
    "rows, cols = 5, 5  # Example size, you can change it as needed\n",
    "\n",
    "# Generate a random binary matrix\n",
    "binary_matrix = torch.randint(0, 2, (rows, cols)).float()\n",
    "binary_matrix"
   ]
  },
  {
   "cell_type": "code",
   "execution_count": 251,
   "metadata": {},
   "outputs": [
    {
     "data": {
      "text/plain": [
       "tensor([[0.0000, 0.3333, 0.0000, 0.3333, 0.3333],\n",
       "        [1.0000, 0.0000, 0.0000, 0.0000, 0.0000],\n",
       "        [0.3333, 0.0000, 0.0000, 0.3333, 0.3333],\n",
       "        [0.0000, 0.3333, 0.3333, 0.0000, 0.3333],\n",
       "        [0.0000, 0.5000, 0.5000, 0.0000, 0.0000]])"
      ]
     },
     "execution_count": 251,
     "metadata": {},
     "output_type": "execute_result"
    }
   ],
   "source": [
    "degrees = binary_matrix.sum(dim=1)\n",
    "D_inv = torch.diag(1.0 / degrees)\n",
    "T = torch.mm(D_inv, binary_matrix)\n",
    "n = binary_matrix.size(0)\n",
    "I = torch.eye(n, device=binary_matrix.device)\n",
    "alpha = 0.1\n",
    "T"
   ]
  },
  {
   "cell_type": "code",
   "execution_count": 254,
   "metadata": {},
   "outputs": [
    {
     "data": {
      "text/plain": [
       "tensor([[3.7835e-44, 2.9956e+14, 1.0000e+00, 2.9956e+14, 2.9956e+14],\n",
       "        [       inf, 3.7835e-44, 1.0000e+00, 1.0000e+00, 1.0000e+00],\n",
       "        [2.9956e+14, 1.0000e+00, 3.7835e-44, 2.9956e+14, 2.9956e+14],\n",
       "        [1.0000e+00, 2.9956e+14, 2.9956e+14, 3.7835e-44, 2.9956e+14],\n",
       "        [1.0000e+00, 5.1847e+21, 5.1847e+21, 1.0000e+00, 3.7835e-44]])"
      ]
     },
     "execution_count": 254,
     "metadata": {},
     "output_type": "execute_result"
    }
   ],
   "source": [
    "t=100\n",
    "diffusion_matrix = torch.exp(-(I-T)*t)\n",
    "diffusion_matrix\n"
   ]
  }
 ],
 "metadata": {
  "kernelspec": {
   "display_name": "uq_graph",
   "language": "python",
   "name": "python3"
  },
  "language_info": {
   "codemirror_mode": {
    "name": "ipython",
    "version": 3
   },
   "file_extension": ".py",
   "mimetype": "text/x-python",
   "name": "python",
   "nbconvert_exporter": "python",
   "pygments_lexer": "ipython3",
   "version": "3.11.10"
  }
 },
 "nbformat": 4,
 "nbformat_minor": 2
}
