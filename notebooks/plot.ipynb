{
 "cells": [
  {
   "cell_type": "code",
   "execution_count": 2,
   "metadata": {},
   "outputs": [],
   "source": [
    "import seaborn as sns\n",
    "import matplotlib.pyplot as plt\n",
    "import os\n",
    "import torch\n",
    "import numpy as np\n",
    "import pandas as pd\n",
    "\n",
    "from notebook_utils import *"
   ]
  },
  {
   "cell_type": "code",
   "execution_count": 3,
   "metadata": {},
   "outputs": [],
   "source": [
    "all_metrics = {}"
   ]
  },
  {
   "cell_type": "code",
   "execution_count": null,
   "metadata": {},
   "outputs": [],
   "source": [
    "strategies_names = [\"aleatoric_propagated\", \"educated_random\", \"augment_latent\", \"age\",\"anrmab\", \"entropy\",\"tta_expected_query_score\"]\n",
    "metrics_dict_cora_gcn = load_results(\"cora_ml\", \"gcn\", strategies_names, save=True, cached=False, cache_path=\"../other_data\")\n",
    "all_metrics[(\"cora_ml\", \"gcn\")] = metrics_dict_cora_gcn"
   ]
  },
  {
   "cell_type": "code",
   "execution_count": null,
   "metadata": {},
   "outputs": [],
   "source": [
    "metrics_dict_cora_gcn_age = load_results(\"cora_ml\", \"gcn\", [\"age\"], save=False, cached=False, cache_path=\"../other_data\")"
   ]
  },
  {
   "cell_type": "code",
   "execution_count": 20,
   "metadata": {},
   "outputs": [
    {
     "name": "stdout",
     "output_type": "stream",
     "text": [
      "Loading metrics\n"
     ]
    }
   ],
   "source": [
    "strategies_names = [\"aleatoric_propagated\", \"age\",\"anrmab\", \"entropy\"]\n",
    "metrics_dict_cora_sgc = load_results(\"cora_ml\", \"sgc\", strategies_names, save=False, cached=False, cache_path=\"../other_data\")\n",
    "all_metrics[(\"cora_ml\", \"sgc\")] = metrics_dict_cora_sgc"
   ]
  },
  {
   "cell_type": "code",
   "execution_count": null,
   "metadata": {},
   "outputs": [],
   "source": [
    "for dataset in [\"citeseer\", \"pubmed\", \"amazon_photos\"]:\n",
    "    for model in [\"gcn\", \"sgc\"]:\n",
    "        strategies_names = [\"aleatoric_propagated\", \"age\",\"anrmab\", \"entropy\"]\n",
    "        metrics_dict = load_results(dataset, model, strategies_names, save=False, cached=False, cache_path=\"../other_data\")\n",
    "        all_metrics[(dataset, model)] = metrics_dict"
   ]
  },
  {
   "cell_type": "code",
   "execution_count": null,
   "metadata": {},
   "outputs": [],
   "source": [
    "runs = combine_geem_metrics(\"cora_ml\",\"fmask_emask_200_filter_probs_0.5_0.4\")\n",
    "agg, stds = aggregate_geem_metrics(\"cora_ml\")\n",
    "# all_metrics[(\"cora_ml\", \"gcn\")][\"geem\"] = (agg[\"accuracy/test\"], stds[\"accuracy/test\"], agg, runs)\n",
    "all_metrics[(\"cora_ml\", \"sgc\")][\"geem\"] = (agg[\"accuracy/test\"], stds[\"accuracy/test\"], agg, runs)\n",
    "metrics_dict_cora_gcn[\"geem\"] = (agg[\"accuracy/test\"], stds[\"accuracy/test\"], agg, runs)\n"
   ]
  },
  {
   "cell_type": "code",
   "execution_count": null,
   "metadata": {},
   "outputs": [],
   "source": [
    "df_age = create_df(metrics_dict_cora_gcn_age)[0]"
   ]
  },
  {
   "cell_type": "code",
   "execution_count": 21,
   "metadata": {},
   "outputs": [],
   "source": [
    "df_combineds = {}\n",
    "for (dataset,model), metrics_dict in all_metrics.items():\n",
    "    df_combined, df = create_df(metrics_dict)\n",
    "    df_combineds[(dataset,model)] = (df_combined,df)\n"
   ]
  },
  {
   "cell_type": "code",
   "execution_count": 22,
   "metadata": {},
   "outputs": [],
   "source": [
    "df_cora_sgc  = df_combineds[('cora_ml', 'sgc')][0]\n",
    "df_cora_sgc_t  = df_combineds[('cora_ml', 'sgc')][1]"
   ]
  },
  {
   "cell_type": "code",
   "execution_count": null,
   "metadata": {},
   "outputs": [
    {
     "data": {
      "text/html": [
       "<div>\n",
       "<style scoped>\n",
       "    .dataframe tbody tr th:only-of-type {\n",
       "        vertical-align: middle;\n",
       "    }\n",
       "\n",
       "    .dataframe tbody tr th {\n",
       "        vertical-align: top;\n",
       "    }\n",
       "\n",
       "    .dataframe thead th {\n",
       "        text-align: right;\n",
       "    }\n",
       "</style>\n",
       "<table border=\"1\" class=\"dataframe\">\n",
       "  <thead>\n",
       "    <tr style=\"text-align: right;\">\n",
       "      <th></th>\n",
       "      <th>28_mean</th>\n",
       "      <th>28_std</th>\n",
       "    </tr>\n",
       "  </thead>\n",
       "  <tbody>\n",
       "    <tr>\n",
       "      <th>aleatoric_propagated_fnoise_emask_100_filter_probs_0.5_0.1</th>\n",
       "      <td>79.078572</td>\n",
       "      <td>1.748673</td>\n",
       "    </tr>\n",
       "    <tr>\n",
       "      <th>aleatoric_propagated_fnoise_emask_100_filter_probs_0.4_0.4</th>\n",
       "      <td>79.000000</td>\n",
       "      <td>2.318405</td>\n",
       "    </tr>\n",
       "    <tr>\n",
       "      <th>aleatoric_propagated_fnoise_emask_100_filter_probs_0.1_0.4</th>\n",
       "      <td>78.964286</td>\n",
       "      <td>3.451929</td>\n",
       "    </tr>\n",
       "    <tr>\n",
       "      <th>aleatoric_propagated_fnoise_emask_100_filter_probs_0.3_0.5</th>\n",
       "      <td>78.864286</td>\n",
       "      <td>2.401573</td>\n",
       "    </tr>\n",
       "    <tr>\n",
       "      <th>aleatoric_propagated_fnoise_emask_100_filter_probs_0.1_0.5</th>\n",
       "      <td>78.835714</td>\n",
       "      <td>3.547822</td>\n",
       "    </tr>\n",
       "  </tbody>\n",
       "</table>\n",
       "</div>"
      ],
      "text/plain": [
       "                                                      28_mean    28_std\n",
       "aleatoric_propagated_fnoise_emask_100_filter_pr...  79.078572  1.748673\n",
       "aleatoric_propagated_fnoise_emask_100_filter_pr...  79.000000  2.318405\n",
       "aleatoric_propagated_fnoise_emask_100_filter_pr...  78.964286  3.451929\n",
       "aleatoric_propagated_fnoise_emask_100_filter_pr...  78.864286  2.401573\n",
       "aleatoric_propagated_fnoise_emask_100_filter_pr...  78.835714  3.547822"
      ]
     },
     "execution_count": 23,
     "metadata": {},
     "output_type": "execute_result"
    }
   ],
   "source": []
  },
  {
   "cell_type": "code",
   "execution_count": null,
   "metadata": {},
   "outputs": [],
   "source": [
    "df_cora_sgc[\"strategy\"] = [i[0] for i in df_cora_sgc.index.str.split(\"_\")]\n",
    "df_cora_sgc[\"tta\"] = [False if i[-1] == \"None\" else True for i in df_cora_sgc.index.str.split(\"_\")]"
   ]
  },
  {
   "cell_type": "code",
   "execution_count": null,
   "metadata": {},
   "outputs": [],
   "source": [
    "df_cora_sgc_tta = df_cora_sgc[df_cora_sgc[\"tta\"]][[\"strategy\",\"28_mean\", \"28_std\", \"nalc\"]]\n",
    "df_cora_sgc_no_tta = df_cora_sgc[~df_cora_sgc[\"tta\"]][[\"strategy\",\"28_mean\", \"28_std\", \"nalc\"]]\n",
    "\n",
    "df_cora_sgc_merged = df_cora_sgc_tta.merge(df_cora_sgc_no_tta, on=\"strategy\", suffixes=(\"_tta\", \"_no_tta\"))\n",
    "df_cora_sgc_merged[\"diff\"] = df_cora_sgc_merged[\"28_mean_tta\"] - df_cora_sgc_merged[\"28_mean_no_tta\"]\n",
    "\n",
    "df_cora_sgc_merged.groupby(\"strategy\")[\"diff\"].max().reset_index().sort_values(\"diff\", ascending=False).head(5)"
   ]
  },
  {
   "cell_type": "code",
   "execution_count": 18,
   "metadata": {},
   "outputs": [
    {
     "ename": "KeyError",
     "evalue": "('cora_ml', 'gcn')",
     "output_type": "error",
     "traceback": [
      "\u001b[0;31m---------------------------------------------------------------------------\u001b[0m",
      "\u001b[0;31mKeyError\u001b[0m                                  Traceback (most recent call last)",
      "Cell \u001b[0;32mIn[18], line 1\u001b[0m\n\u001b[0;32m----> 1\u001b[0m df_combined, df \u001b[38;5;241m=\u001b[39m create_df(\u001b[43mall_metrics\u001b[49m\u001b[43m[\u001b[49m\u001b[43m(\u001b[49m\u001b[38;5;124;43m\"\u001b[39;49m\u001b[38;5;124;43mcora_ml\u001b[39;49m\u001b[38;5;124;43m\"\u001b[39;49m\u001b[43m,\u001b[49m\u001b[43m \u001b[49m\u001b[38;5;124;43m\"\u001b[39;49m\u001b[38;5;124;43mgcn\u001b[39;49m\u001b[38;5;124;43m\"\u001b[39;49m\u001b[43m)\u001b[49m\u001b[43m]\u001b[49m)\n",
      "\u001b[0;31mKeyError\u001b[0m: ('cora_ml', 'gcn')"
     ]
    }
   ],
   "source": [
    "df_combined, df = create_df(all_metrics[(\"cora_ml\", \"gcn\")])"
   ]
  },
  {
   "cell_type": "code",
   "execution_count": null,
   "metadata": {},
   "outputs": [],
   "source": [
    "df_combined[df_combined.index.str.contains(\"tta_expected_query_score_aleatoric_propagated_fmask_emask_100_nofilter_0.5_0.4\") | (df_combined.index.str.contains(\"aleatoric_propagated_fmask_emask_100_filter\") & df_combined.index.str.contains(\"_0.5_0.4\") & ~df_combined.index.str.contains(\"educated\"))]"
   ]
  },
  {
   "cell_type": "code",
   "execution_count": null,
   "metadata": {},
   "outputs": [],
   "source": [
    "latent_df = df_combined[df_combined.index.str.contains(\"latent\")].copy()\n",
    "latent_df[\"p_f\"] = latent_df.index.map(lambda x: x.split(\"_\")[4]).astype(float)\n",
    "latent_df[\"p_e\"] = np.nan\n",
    "latent_df[\"m_f\"] = \"latent\"\n",
    "latent_df[\"m_e\"] = \"none\"\n",
    "latent_df[\"num\"] = 100\n",
    "latent_df[\"filter\"] = latent_df.index.map(lambda x: \"filter\" if x.split(\"_\")[-1] == \"filter\" else \"nofilter\")"
   ]
  },
  {
   "cell_type": "code",
   "execution_count": 24,
   "metadata": {},
   "outputs": [
    {
     "data": {
      "text/html": [
       "<div>\n",
       "<style scoped>\n",
       "    .dataframe tbody tr th:only-of-type {\n",
       "        vertical-align: middle;\n",
       "    }\n",
       "\n",
       "    .dataframe tbody tr th {\n",
       "        vertical-align: top;\n",
       "    }\n",
       "\n",
       "    .dataframe thead th {\n",
       "        text-align: right;\n",
       "    }\n",
       "</style>\n",
       "<table border=\"1\" class=\"dataframe\">\n",
       "  <thead>\n",
       "    <tr style=\"text-align: right;\">\n",
       "      <th></th>\n",
       "      <th>28_mean</th>\n",
       "      <th>28_std</th>\n",
       "    </tr>\n",
       "  </thead>\n",
       "  <tbody>\n",
       "    <tr>\n",
       "      <th>aleatoric_propagated_fnoise_emask_100_filter_probs_0.5_0.1</th>\n",
       "      <td>79.078572</td>\n",
       "      <td>1.748673</td>\n",
       "    </tr>\n",
       "    <tr>\n",
       "      <th>aleatoric_propagated_fnoise_emask_100_filter_probs_0.4_0.4</th>\n",
       "      <td>79.000000</td>\n",
       "      <td>2.318405</td>\n",
       "    </tr>\n",
       "    <tr>\n",
       "      <th>aleatoric_propagated_fnoise_emask_100_filter_probs_0.1_0.4</th>\n",
       "      <td>78.964286</td>\n",
       "      <td>3.451929</td>\n",
       "    </tr>\n",
       "    <tr>\n",
       "      <th>aleatoric_propagated_fnoise_emask_100_filter_probs_0.3_0.5</th>\n",
       "      <td>78.864286</td>\n",
       "      <td>2.401573</td>\n",
       "    </tr>\n",
       "    <tr>\n",
       "      <th>aleatoric_propagated_fnoise_emask_100_filter_probs_0.1_0.5</th>\n",
       "      <td>78.835714</td>\n",
       "      <td>3.547822</td>\n",
       "    </tr>\n",
       "  </tbody>\n",
       "</table>\n",
       "</div>"
      ],
      "text/plain": [
       "                                                      28_mean    28_std\n",
       "aleatoric_propagated_fnoise_emask_100_filter_pr...  79.078572  1.748673\n",
       "aleatoric_propagated_fnoise_emask_100_filter_pr...  79.000000  2.318405\n",
       "aleatoric_propagated_fnoise_emask_100_filter_pr...  78.964286  3.451929\n",
       "aleatoric_propagated_fnoise_emask_100_filter_pr...  78.864286  2.401573\n",
       "aleatoric_propagated_fnoise_emask_100_filter_pr...  78.835714  3.547822"
      ]
     },
     "execution_count": 24,
     "metadata": {},
     "output_type": "execute_result"
    }
   ],
   "source": [
    "df_cora_sgc[[\"28_mean\", \"28_std\"]].head(5)"
   ]
  },
  {
   "cell_type": "code",
   "execution_count": 32,
   "metadata": {},
   "outputs": [],
   "source": [
    "df_core_sgc_tta = df_combined[df_combined.index.str.contains(\"aleatoric_propagated\") & df_combined.index.str.contains(\"probs\")].copy()\n",
    "def process_tta(df):\n",
    "    df[\"num\"] = df.index.map(lambda x: x.split(\"_\")[4]).astype(int)\n",
    "    df[\"p_e\"] = df.index.map(lambda x: x.split(\"_\")[-1])\n",
    "    df[\"p_e\"] = df[\"p_e\"].replace(\"none\", np.nan).astype(float)\n",
    "    df[\"p_f\"] = df.index.map(lambda x: x.split(\"_\")[-2])\n",
    "    df[\"p_f\"] = df[\"p_f\"].replace(\"none\", np.nan).astype(float)\n",
    "    df[\"m_f\"] = df.index.map(lambda x: x.split(\"_\")[2][1:])\n",
    "    df[\"m_e\"] = df.index.map(lambda x: x.split(\"_\")[3][1:])\n",
    "    df[\"filter\"] = df.index.map(lambda x:  x.split(\"_\")[5])\n",
    "    return df\n",
    "df_core_sgc_tta = process_tta(df_core_sgc_tta)"
   ]
  },
  {
   "cell_type": "code",
   "execution_count": null,
   "metadata": {},
   "outputs": [],
   "source": [
    "df_core_sgc_tta = df_core_sgc_tta[df_core_sgc_tta[\"num\"] == 100] \n",
    "df_core_sgc_tta_mask = df_core_sgc_tta[df_core_sgc_tta[\"m_f\"] == \"mask\"]\n",
    "df_core_sgc_tta_noise = df_core_sgc_tta[df_core_sgc_tta[\"m_f\"] == \"noise\"]\n",
    "pivot_table_sgc_mask = df_core_sgc_tta_mask.pivot(index=\"p_f\", columns=\"p_e\", values=\"28_mean\")\n",
    "pivot_table_sgc_mask.sort_index(inplace=True, ascending=False)\n",
    "pivot_table_sgc_noise = df_core_sgc_tta_noise.pivot(index=\"p_f\", columns=\"p_e\", values=\"28_mean\")\n",
    "pivot_table_sgc_noise.sort_index(inplace=True, ascending=False)"
   ]
  },
  {
   "cell_type": "code",
   "execution_count": 60,
   "metadata": {},
   "outputs": [
    {
     "data": {
      "text/plain": [
       "<Axes: xlabel='p_e', ylabel='p_f'>"
      ]
     },
     "execution_count": 60,
     "metadata": {},
     "output_type": "execute_result"
    },
    {
     "data": {
      "image/png": "[encoded data removed]",
      "text/plain": [
       "<Figure size 640x480 with 2 Axes>"
      ]
     },
     "metadata": {},
     "output_type": "display_data"
    }
   ],
   "source": [
    "sns.heatmap(pivot_table_sgc_mask, annot=True, fmt=\".2f\", cmap=\"YlGnBu\", )\n"
   ]
  },
  {
   "cell_type": "code",
   "execution_count": null,
   "metadata": {},
   "outputs": [
    {
     "data": {
      "text/plain": [
       "<Axes: xlabel='p_e', ylabel='p_f'>"
      ]
     },
     "execution_count": 59,
     "metadata": {},
     "output_type": "execute_result"
    },
    {
     "data": {
      "image/png": "[encoded data removed]",
      "text/plain": [
       "<Figure size 640x480 with 2 Axes>"
      ]
     },
     "metadata": {},
     "output_type": "display_data"
    }
   ],
   "source": [
    "sns.heatmap(pivot_table_sgc_noise, annot=True, fmt=\".2f\", cmap=\"YlGnBu\", )\n"
   ]
  },
  {
   "cell_type": "code",
   "execution_count": null,
   "metadata": {},
   "outputs": [],
   "source": [
    "tta_df = df_combined[df_combined.index.str.contains(\"aleatoric_propagated\")& df_combined.index.str.contains(\"probs_\") & ~df_combined.index.str.contains(\"educated_random\") & ~df_combined.index.str.contains(\"test\") ].copy()\n",
    "tta_df = process_tta(tta_df)\n",
    "tta_df = pd.concat([latent_df, tta_df], axis=0)\n",
    "tta_df = tta_df[[\"p_e\",\"p_f\",\"m_e\",\"m_f\",\"num\",\"filter\",\"28_mean\", \"28_std\", \"nalc\"]]\n",
    "tta_df_orig = tta_df.copy()\n",
    "tta_df = tta_df[tta_df[\"num\"] == 100]\n",
    "tta_df_filter = tta_df[tta_df[\"filter\"] == \"filter\"]  \n",
    "tta_df_no_filter = tta_df[tta_df[\"filter\"] == \"nofilter\"]\n",
    "tta_df_merged = pd.merge(tta_df_filter, tta_df_no_filter, on=[\"p_e\",\"p_f\",\"m_e\",\"m_f\", \"num\"], suffixes=(\"_filter\", \"_no_filter\"), how=\"right\")\n",
    "tta_df_merged[\"mean_diff\"] = tta_df_merged[\"28_mean_filter\"] - tta_df_merged[\"28_mean_no_filter\"]\n",
    "tta_df_merged[\"std_diff\"] = tta_df_merged[\"28_std_filter\"] - tta_df_merged[\"28_std_no_filter\"]\n",
    "tta_df_merged.sort_values(by=\"mean_diff\", ascending=False, inplace=True)\n",
    "tta_df_merged.reset_index(drop=True, inplace=True)\n",
    "tta_df_merged.drop(columns=[\"filter_filter\",\"filter_no_filter\"], inplace=True)\n"
   ]
  },
  {
   "cell_type": "code",
   "execution_count": null,
   "metadata": {},
   "outputs": [],
   "source": [
    "tta_df_no_filter[\"m_f\"].value_counts()"
   ]
  },
  {
   "cell_type": "code",
   "execution_count": null,
   "metadata": {},
   "outputs": [],
   "source": [
    "tta_df_merged_separate = tta_df_merged[(tta_df_merged[\"p_e\"].isna()) | (tta_df_merged[\"p_f\"].isna())].copy()\n",
    "tta_df_merged_separate[\"type\"] = tta_df_merged_separate.apply(lambda x: \"e\" + x[\"m_e\"] if x[\"m_e\"] != \"none\" else \"f\" + x[\"m_f\"], axis=1)\n",
    "tta_df_merged_separate[\"level\"] = tta_df_merged_separate.apply(lambda x: x[\"p_f\"] if not pd.isna(x[\"p_f\"]) else x[\"p_e\"], axis=1)"
   ]
  },
  {
   "cell_type": "code",
   "execution_count": null,
   "metadata": {},
   "outputs": [],
   "source": [
    "pivot_table = tta_df_merged_separate.pivot(index=\"level\", columns=\"type\", values=\"28_mean_filter\")\n",
    "pivot_table.sort_index(axis=0, ascending=False, inplace=True)\n",
    "pivot_table.rename(columns={\"emask\": \"Edge\\nmasking\", \"fmask\": \"Feature\\nmasking\", \"fnoise\": \"Feature\\nnoising\", \"flatent\": \"Latent\\nnoising\"}, inplace=True)\n",
    "pivot_table = pivot_table[[\"Edge\\nmasking\", \"Feature\\nmasking\", \"Feature\\nnoising\", \"Latent\\nnoising\"]]\n",
    "ma = pivot_table.max().max()\n",
    "mi = pivot_table.min().min()\n",
    "sns.heatmap(pivot_table, annot=True, fmt=\".2f\", cmap=\"YlGnBu\", vmin=mi, vmax=ma)\n",
    "plt.title(\"Accuracies by \\n Filtered augmentations\")\n",
    "plt.xlabel(\"Augmentation type\")\n",
    "plt.ylabel(\"Augmentation strength\")\n",
    "plt.yticks(rotation=0)\n",
    "plt.xticks(rotation=0)\n",
    "\n",
    "plt.show()"
   ]
  },
  {
   "cell_type": "code",
   "execution_count": null,
   "metadata": {},
   "outputs": [],
   "source": [
    "pivot_table = tta_df_merged_separate.pivot(index=\"level\", columns=\"type\", values=\"28_mean_no_filter\")\n",
    "pivot_table.sort_index(axis=0, ascending=False, inplace=True)\n",
    "pivot_table.rename(columns={\"emask\": \"Edge\\nmasking\", \"fmask\": \"Feature\\nmasking\", \"fnoise\": \"Feature\\nnoising\", \"flatent\": \"Latent\\nnoising\"}, inplace=True)\n",
    "pivot_table = pivot_table[[\"Edge\\nmasking\", \"Feature\\nmasking\", \"Feature\\nnoising\", \"Latent\\nnoising\"]]\n",
    "sns.heatmap(pivot_table, annot=True, fmt=\".2f\", cmap=\"YlGnBu\", vmin=mi, vmax=ma)\n",
    "plt.title(\"Accuracies by\\nAugmentations\")\n",
    "plt.xlabel(\"Augmentation type\")\n",
    "plt.ylabel(\"Augmentation strength\")\n",
    "plt.yticks(rotation=0)\n",
    "plt.xticks(rotation=0)\n",
    "plt.show()"
   ]
  },
  {
   "cell_type": "code",
   "execution_count": null,
   "metadata": {},
   "outputs": [],
   "source": [
    "pivot_table = tta_df_merged_separate.pivot(index=\"level\", columns=\"type\", values=\"mean_diff\")\n",
    "pivot_table.sort_index(axis=0, ascending=False, inplace=True)\n",
    "pivot_table.rename(columns={\"emask\": \"Edge\\nmasking\", \"fmask\": \"Feature\\nmasking\", \"fnoise\": \"Feature\\nnoising\", \"flatent\": \"Latent\\nnoising\"}, inplace=True)\n",
    "pivot_table = pivot_table[[\"Edge\\nmasking\", \"Feature\\nmasking\", \"Feature\\nnoising\", \"Latent\\nnoising\"]]\n",
    "sns.heatmap(pivot_table, annot=True, fmt=\".2f\", cmap=\"coolwarm\", center=0)\n",
    "plt.title(\"Accuracy difference\")\n",
    "plt.xlabel(\"Augmentation type\")\n",
    "plt.ylabel(\"Augmentation strength\")\n",
    "plt.yticks(rotation=0)\n",
    "plt.show()\n",
    "# tta_df_merged_separate"
   ]
  },
  {
   "cell_type": "code",
   "execution_count": null,
   "metadata": {},
   "outputs": [],
   "source": [
    "tta_df_merged_combined_mask = tta_df_merged[~tta_df_merged[\"p_e\"].isna() & ~tta_df_merged[\"p_f\"].isna() & (tta_df_merged[\"m_f\"] == \"mask\")].copy()\n",
    "pivot_table_mask = tta_df_merged_combined_mask.pivot(index=\"p_f\", columns=\"p_e\", values=\"28_mean_no_filter\")\n",
    "pivot_table_mask.sort_index(axis=0, ascending=False, inplace=True)\n",
    "\n",
    "tta_combined_hyperparam_noise = tta_df_merged[~tta_df_merged[\"p_e\"].isna() & ~tta_df_merged[\"p_f\"].isna() & (tta_df_merged[\"m_f\"] == \"noise\")].copy()\n",
    "pivot_table_noise = tta_combined_hyperparam_noise.pivot(index='p_f', columns='p_e', values='28_mean_no_filter')\n",
    "pivot_table_noise.sort_index(axis=0, ascending=False, inplace=True)\n",
    "\n",
    "pivot_table_mask_filter = tta_df_merged_combined_mask.pivot(index=\"p_f\", columns=\"p_e\", values=\"28_mean_filter\")\n",
    "pivot_table_mask_filter.sort_index(axis=0, ascending=False, inplace=True)\n",
    "\n",
    "pivot_table_noise_filter = tta_combined_hyperparam_noise.pivot(index='p_f', columns='p_e', values='28_mean_filter')\n",
    "pivot_table_noise_filter.sort_index(axis=0, ascending=False, inplace=True)\n",
    "\n",
    "pivot_table_mask_diff = tta_df_merged_combined_mask.pivot(index=\"p_f\", columns=\"p_e\", values=\"mean_diff\")\n",
    "pivot_table_mask_diff.sort_index(axis=0, ascending=False, inplace=True)\n",
    "\n",
    "pivot_table_noise_diff = tta_combined_hyperparam_noise.pivot(index='p_f', columns='p_e', values='mean_diff')\n",
    "pivot_table_noise_diff.sort_index(axis=0, ascending=False, inplace=True)\n",
    "\n",
    "mask_max = max(pivot_table_mask.max().max(), pivot_table_mask_filter.max().max())\n",
    "mask_min = min(pivot_table_mask.min().min(), pivot_table_mask_filter.min().min())\n",
    "noise_max = max(pivot_table_noise.max().max(), pivot_table_noise_filter.max().max())\n",
    "noise_min = min(pivot_table_noise.min().min(), pivot_table_noise_filter.min().min())\n",
    "\n",
    "min_min = min(mask_min, noise_min)\n",
    "max_max = max(mask_max, noise_max)\n",
    "\n",
    "diff_max = max(pivot_table_mask_diff.max().max(), pivot_table_noise_diff.max().max())\n",
    "diff_min = min(pivot_table_mask_diff.min().min(), pivot_table_noise_diff.min().min())"
   ]
  },
  {
   "cell_type": "code",
   "execution_count": null,
   "metadata": {},
   "outputs": [],
   "source": [
    "fig, axs = plt.subplots(3, 2, figsize=(12, 15))\n",
    "\n",
    "# Heatmap for pivot_table_mask\n",
    "sns.heatmap(pivot_table_mask, annot=True, fmt=\".2f\", cmap=\"YlGnBu\", ax=axs[0, 0], vmin=min_min, vmax=max_max)\n",
    "axs[0, 0].set_title(\"Accuracies by Feature Masking and Edge Dropping strength\")\n",
    "axs[0, 0].set_ylabel(\"Feature Masking Probability\")\n",
    "axs[0, 0].set_xlabel(\"Edge Dropping Probability\")\n",
    "\n",
    "# Heatmap for pivot_table_noise\n",
    "sns.heatmap(pivot_table_noise, annot=True, fmt=\".2f\", cmap=\"YlGnBu\", ax=axs[0, 1], vmin=min_min, vmax=max_max)\n",
    "axs[0, 1].set_title(\"Accuracies by Feature Noising and Edge Dropping strength\")\n",
    "axs[0, 1].set_ylabel(\"Feature Noising Strength\")\n",
    "axs[0, 1].set_xlabel(\"Edge Dropping Probability\")\n",
    "\n",
    "# Heatmap for pivot_table_mask_filter\n",
    "sns.heatmap(pivot_table_mask_filter, annot=True, fmt=\".2f\", cmap=\"YlGnBu\", ax=axs[1, 0], vmin=min_min, vmax=max_max)\n",
    "axs[1, 0].set_title(\"Accuracies by Feature Masking and Edge Dropping strength \\n Filtered\")\n",
    "axs[1, 0].set_ylabel(\"Feature Mask Probability\")\n",
    "axs[1, 0].set_xlabel(\"Edge Dropping Probability\")\n",
    "\n",
    "# Heatmap for pivot_table_noise_filter\n",
    "sns.heatmap(pivot_table_noise_filter, annot=True, fmt=\".2f\", cmap=\"YlGnBu\", ax=axs[1, 1], vmin=min_min, vmax=max_max)\n",
    "axs[1, 1].set_title(\"Accuracies by Feature Noising and Edge Dropping strength \\n Filtered\")\n",
    "axs[1, 1].set_ylabel(\"Feature Noising Strength\")\n",
    "axs[1, 1].set_xlabel(\"Edge Dropping Probability\")\n",
    "\n",
    "\n",
    "# Heatmap for pivot_table_mask_diff\n",
    "sns.heatmap(pivot_table_mask_diff, annot=True, fmt=\".2f\", cmap=\"coolwarm\", ax=axs[2, 0], center=0, vmin=diff_min, vmax=diff_max)\n",
    "axs[2, 0].set_title(\"Mean Difference by Feature Masking and Edge Dropping strength\")\n",
    "axs[2, 0].set_ylabel(\"Feature Mask Probability\")\n",
    "axs[2, 0].set_xlabel(\"Edge Dropping Probability\")\n",
    "\n",
    "# Heatmap for pivot_table_noise_diff\n",
    "sns.heatmap(pivot_table_noise_diff, annot=True, fmt=\".2f\", cmap=\"coolwarm\", ax=axs[2, 1], center=0, vmin=diff_min, vmax=diff_max)\n",
    "axs[2, 1].set_title(\"Mean Difference by Feature Noising and Edge Dropping strength\")\n",
    "axs[2, 1].set_ylabel(\"Feature Noising Strength\")\n",
    "axs[2, 1].set_xlabel(\"Edge Dropping Probability\")\n",
    "\n",
    "plt.tight_layout()\n",
    "plt.show()"
   ]
  },
  {
   "cell_type": "code",
   "execution_count": null,
   "metadata": {},
   "outputs": [],
   "source": [
    "sns.heatmap(pivot_table_mask, annot=True, fmt=\".2f\", cmap=\"YlGnBu\",  vmin=min_min, vmax=max_max)\n",
    "plt.title(\"Accuracies by Feature Masking and Edge Dropping strength\")\n",
    "plt.ylabel(\"Feature Masking Probability\")\n",
    "plt.xlabel(\"Edge Dropping Probability\")"
   ]
  },
  {
   "cell_type": "code",
   "execution_count": null,
   "metadata": {},
   "outputs": [],
   "source": [
    "sns.heatmap(pivot_table_noise, annot=True, fmt=\".2f\", cmap=\"YlGnBu\",  vmin=min_min, vmax=max_max)\n",
    "plt.title(\"Accuracies by Feature Noising and Edge Dropping strength\")\n",
    "plt.ylabel(\"Feature Noising Strength\")\n",
    "plt.xlabel(\"Edge Dropping Probability\")"
   ]
  },
  {
   "cell_type": "code",
   "execution_count": null,
   "metadata": {},
   "outputs": [],
   "source": [
    "sns.heatmap(pivot_table_mask_filter, annot=True, fmt=\".2f\", cmap=\"YlGnBu\",  vmin=min_min, vmax=max_max)\n",
    "plt.title(\"Accuracies by Feature Masking and Edge Dropping strength \\n Filtered\")\n",
    "plt.ylabel(\"Feature Mask Probability\")\n",
    "plt.xlabel(\"Edge Dropping Probability\")"
   ]
  },
  {
   "cell_type": "code",
   "execution_count": null,
   "metadata": {},
   "outputs": [],
   "source": [
    "sns.heatmap(pivot_table_noise_filter, annot=True, fmt=\".2f\", cmap=\"YlGnBu\",  vmin=min_min, vmax=max_max)\n",
    "plt.title(\"Accuracies by Feature Noising and Edge Dropping strength \\n Filtered\")\n",
    "plt.ylabel(\"Feature Noising Strength\")\n",
    "plt.xlabel(\"Edge Dropping Probability\")"
   ]
  },
  {
   "cell_type": "code",
   "execution_count": null,
   "metadata": {},
   "outputs": [],
   "source": [
    "# Heatmap for pivot_table_mask_diff\n",
    "sns.heatmap(pivot_table_mask_diff, annot=True, fmt=\".2f\", cmap=\"coolwarm\",  center=0, vmin=diff_min, vmax=diff_max)\n",
    "plt.title(\"Mean Difference by Feature Masking and Edge Dropping strength\")\n",
    "plt.ylabel(\"Feature Mask Probability\")\n",
    "plt.xlabel(\"Edge Dropping Probability\")\n",
    "\n"
   ]
  },
  {
   "cell_type": "code",
   "execution_count": null,
   "metadata": {},
   "outputs": [],
   "source": [
    "# Heatmap for pivot_table_noise_diff\n",
    "sns.heatmap(pivot_table_noise_diff, annot=True, fmt=\".2f\", cmap=\"coolwarm\",  center=0, vmin=diff_min, vmax=diff_max)\n",
    "plt.title(\"Mean Difference by Feature Noising and Edge Dropping strength\")\n",
    "plt.ylabel(\"Feature Noising Strength\")\n",
    "plt.xlabel(\"Edge Dropping Probability\")"
   ]
  },
  {
   "cell_type": "code",
   "execution_count": null,
   "metadata": {},
   "outputs": [],
   "source": [
    "tta_num = tta_df_orig[(tta_df_orig[\"p_e\"] == 0.4) & (tta_df_orig[\"p_f\"] == 0.5) & (tta_df_orig[\"m_f\"] == \"mask\") & (tta_df_orig[\"m_e\"] == \"mask\") & (tta_df_orig[\"filter\"] == \"filter\")].copy()\n",
    "tta_num.sort_values(by=\"num\", inplace=True)\n",
    "ax = tta_num.plot(x=\"num\", y=\"28_mean\", marker='o', figsize=(8, 4), title=\"Sensitivity to the number of augmented views\")\n",
    "ax.legend().set_visible(False)  # Hide the legend\n",
    "plt.ylabel(\"Accuracy\")\n",
    "plt.xlabel(\"Number of augmented views\")\n",
    "plt.title(\"Sensitivity to the number of augmented views\")\n",
    "plt.grid(True)\n",
    "plt.show()"
   ]
  },
  {
   "cell_type": "code",
   "execution_count": null,
   "metadata": {},
   "outputs": [],
   "source": [
    "# Extract adaptation mode, learning rate, and number of epochs from the index\n",
    "df_adapted = df_combined[df_combined.index.str.contains(\"feature\") | df_combined.index.str.contains(\"adj\") |df_combined.index.str.contains(\"graph\")  ]\n",
    "df_adapted = df_adapted.copy()\n",
    "df_adapted['adaptation_mode'] = df_adapted.index.str.split('_').str[2]\n",
    "# df_adapted['learning_rate'] = df_adapted.index.map(lambda x: x.split('_')[3][3:] if 'adj' in x else (x.split('_')[4][3:] if 'feature' in x else (x.split('_')[3][3:] if 'graph' in x else None)))\n",
    "df_adapted['learning_rate_adj'] = df_adapted.index.map(lambda x: x.split('_')[3][2:] if 'adj' in x else (x.split('_')[3][3:] if 'graph' in x else None))\n",
    "df_adapted['learning_rate_feature'] = df_adapted.index.map(lambda x: x.split('_')[3][2:] if 'feature' in x else (x.split('_')[4][3:] if 'graph' in x else None))\n",
    "df_adapted['epochs'] = df_adapted.index.map(lambda x: x.split('_')[4][6:] if 'graph' not in x else x.split('_')[5][6:])\n",
    "# df_adapted[\"learning_rate\"] = df_adapted[\"learning_rate\"].astype(float)\n",
    "df_adapted[\"epochs\"] = df_adapted[\"epochs\"].astype(int)\n"
   ]
  },
  {
   "cell_type": "code",
   "execution_count": null,
   "metadata": {},
   "outputs": [],
   "source": [
    "df_adapted_features = df_adapted[df_adapted[\"adaptation_mode\"] == \"feature\"]\n",
    "pivot_table_feature = df_adapted_features.pivot(index=\"learning_rate_feature\", columns=\"epochs\", values=\"28_mean\")\n",
    "pivot_table_feature.sort_index(axis=0, ascending=False, inplace=True)\n",
    "\n",
    "df_adapted_structure = df_adapted[df_adapted[\"adaptation_mode\"] == \"adj\"]\n",
    "pivot_table_structure = df_adapted_structure.pivot(index=\"learning_rate_adj\", columns=\"epochs\", values=\"28_mean\")\n",
    "pivot_table_structure.sort_index(axis=0, ascending=False, inplace=True)\n",
    "\n",
    "vmin = min(pivot_table_feature.min().min(), pivot_table_structure.min().min())\n",
    "vmax = max(pivot_table_feature.max().max(), pivot_table_structure.max().max())"
   ]
  },
  {
   "cell_type": "code",
   "execution_count": null,
   "metadata": {},
   "outputs": [],
   "source": [
    "\n",
    "sns.heatmap(pivot_table_feature, annot=True, fmt=\".2f\", cmap=\"YlGnBu\", vmin=vmin, vmax=vmax)\n",
    "plt.title(\"Feature Adaptation \\n Accuracies by Learning Rate and Epoch\")\n",
    "plt.xlabel(\"Epoch\")\n",
    "plt.ylabel(\"Learning Rate\")\n",
    "plt.show()\n",
    "\n",
    "sns.heatmap(pivot_table_structure, annot=True, fmt=\".2f\", cmap=\"YlGnBu\", vmin=vmin, vmax=vmax)\n",
    "plt.title(\"Structure Adaptation \\n Accuracies by Learning Rate and Epoch\")\n",
    "plt.xlabel(\"Epoch\")\n",
    "plt.ylabel(\"Learning Rate\")\n",
    "plt.show()"
   ]
  },
  {
   "cell_type": "code",
   "execution_count": null,
   "metadata": {},
   "outputs": [],
   "source": [
    "from sklearn.preprocessing import LabelEncoder\n",
    "df_adapted_graph = df_adapted[df_adapted[\"adaptation_mode\"] == \"graph\"]\n",
    "df_adapted_graph = df_adapted_graph.copy()\n",
    "le_adj, le_feature = LabelEncoder(), LabelEncoder()\n",
    "df_adapted_graph[\"learning_rate_feature_categorical\"] = le_feature.fit_transform(df_adapted_graph[\"learning_rate_feature\"])\n",
    "df_adapted_graph[\"learning_rate_adj_categorical\"] = le_adj.fit_transform(df_adapted_graph[\"learning_rate_adj\"])\n",
    "df_adapted_graph[\"epochs_to_plot\"] = df_adapted_graph[\"epochs\"]\n",
    "# Add jitter to learning_rate_feature_categorical, learning_rate_adj_categorical, and epochs\n",
    "df_adapted_graph[\"learning_rate_feature_categorical\"] = df_adapted_graph[\"learning_rate_feature_categorical\"] + np.random.uniform(-0.01, 0.01, df_adapted_graph.shape[0])\n",
    "df_adapted_graph[\"learning_rate_adj_categorical\"] = df_adapted_graph[\"learning_rate_adj_categorical\"] + np.random.uniform(-0.01, 0.01, df_adapted_graph.shape[0])\n",
    "df_adapted_graph[\"epochs_to_plot\"] = df_adapted_graph[\"epochs_to_plot\"] + np.random.uniform(-0.1, 0.1, df_adapted_graph.shape[0])\n",
    "import plotly.express as px\n",
    "df_adapted_graph.sort_values(by=\"28_mean\", ascending=False, inplace=True)\n"
   ]
  },
  {
   "cell_type": "code",
   "execution_count": null,
   "metadata": {},
   "outputs": [],
   "source": [
    "df_adapted_graph_cp = df_adapted_graph.copy()\n",
    "df_adapted_graph_cp.rename(columns={\"28_mean\": \"accuracy\"}, inplace=True)"
   ]
  },
  {
   "cell_type": "code",
   "execution_count": null,
   "metadata": {},
   "outputs": [],
   "source": [
    "import pandas as pd\n",
    "import statsmodels.api as sm\n",
    "from statsmodels.formula.api import ols\n",
    "\n",
    "# Assume df has columns: learning_rate1, learning_rate2, epochs, accuracy\n",
    "model = ols('accuracy ~ C(learning_rate_feature) + C(learning_rate_adj) + C(epochs)', data=df_adapted_graph_cp).fit()\n",
    "anova_table = sm.stats.anova_lm(model, typ=2)\n",
    "print(anova_table)\n"
   ]
  },
  {
   "cell_type": "code",
   "execution_count": null,
   "metadata": {},
   "outputs": [],
   "source": [
    "import seaborn as sns\n",
    "import matplotlib.pyplot as plt\n",
    "\n",
    "# Create a figure with 3 subplots\n",
    "fig, axes = plt.subplots(1, 3, figsize=(18, 6), sharey=True)\n",
    "\n",
    "# Boxplot for learning_rate_feature\n",
    "sns.boxplot(x=\"learning_rate_feature\", y=\"28_mean\", data=df_adapted_graph, ax=axes[0])\n",
    "axes[0].set_title(\"Boxplot of Accuracies by Learning Rate (Feature)\")\n",
    "axes[0].set_xlabel(\"Learning Rate (Feature)\")\n",
    "axes[0].set_ylabel(\"Accuracy\")\n",
    "axes[0].tick_params(axis='x', rotation=45)\n",
    "\n",
    "# Boxplot for learning_rate_adj\n",
    "sns.boxplot(x=\"learning_rate_adj\", y=\"28_mean\", data=df_adapted_graph, ax=axes[1])\n",
    "axes[1].set_title(\"Boxplot of Accuracies by Learning Rate (Adj)\")\n",
    "axes[1].set_xlabel(\"Learning Rate (Adj)\")\n",
    "axes[1].tick_params(axis='x', rotation=45)\n",
    "\n",
    "# Boxplot for epochs\n",
    "sns.boxplot(x=\"epochs\", y=\"28_mean\", data=df_adapted_graph, ax=axes[2])\n",
    "axes[2].set_title(\"Boxplot of Accuracies by Epochs\")\n",
    "axes[2].set_xlabel(\"Epochs\")\n",
    "axes[2].tick_params(axis='x', rotation=45)\n",
    "\n",
    "plt.tight_layout()\n",
    "plt.show()"
   ]
  },
  {
   "cell_type": "code",
   "execution_count": null,
   "metadata": {},
   "outputs": [],
   "source": [
    "# Calculate standard deviations grouped by different parameters\n",
    "std_learning_rate_feature = df_adapted_graph.groupby([\"learning_rate_feature\"])[\"28_mean\"].std().mean()\n",
    "std_learning_rate_adj = df_adapted_graph.groupby([\"learning_rate_adj\"])[\"28_mean\"].std().mean()\n",
    "std_epochs = df_adapted_graph.groupby([\"epochs\"])[\"28_mean\"].std().mean()\n",
    "\n",
    "# Collect results into a single DataFrame\n",
    "results_df = pd.DataFrame({\n",
    "    \"Parameter\": [\"learning_rate_feature\", \"learning_rate_adj\", \"epochs\"],\n",
    "    \"Mean_Std\": [std_learning_rate_feature, std_learning_rate_adj, std_epochs]\n",
    "})\n",
    "\n",
    "results_df"
   ]
  },
  {
   "cell_type": "code",
   "execution_count": null,
   "metadata": {},
   "outputs": [],
   "source": [
    "1344*6"
   ]
  },
  {
   "cell_type": "code",
   "execution_count": null,
   "metadata": {},
   "outputs": [],
   "source": [
    "df_adapted_graph_filtered = df_adapted_graph[df_adapted_graph[\"learning_rate_feature\"] == \"0.001\"]\n",
    "pivot_table_graph = df_adapted_graph_filtered.pivot(index=\"learning_rate_adj\", columns=\"epochs\", values=\"28_mean\")\n",
    "pivot_table_graph.sort_index(axis=0, ascending=False, inplace=True)\n",
    "sns.heatmap(pivot_table_graph, annot=True, fmt=\".2f\", cmap=\"YlGnBu\", vmin=vmin, vmax=vmax)\n",
    "plt.title(\"Graph Adaptation (Feature LR = 0.001) \\n Accuracies by Structure LR and Epoch\")\n",
    "plt.xlabel(\"Epoch\")\n",
    "plt.ylabel(\"Structure Learning Rate\")\n",
    "plt.show()"
   ]
  },
  {
   "cell_type": "code",
   "execution_count": null,
   "metadata": {},
   "outputs": [],
   "source": [
    "df_adapted_graph_filtered = df_adapted_graph[df_adapted_graph[\"learning_rate_feature\"] == \"0.0001\"]\n",
    "pivot_table_graph = df_adapted_graph_filtered.pivot(index=\"learning_rate_adj\", columns=\"epochs\", values=\"28_mean\")\n",
    "pivot_table_graph.sort_index(axis=0, ascending=False, inplace=True)\n",
    "sns.heatmap(pivot_table_graph, annot=True, fmt=\".2f\", cmap=\"YlGnBu\", vmin=vmin, vmax=vmax)\n",
    "plt.title(\"Graph Adaptation (Feature LR = 0.0001) \\n Accuracies by Structure LR and Epoch\")\n",
    "plt.xlabel(\"Epoch\")\n",
    "plt.ylabel(\"Structure Learning Rate\")\n",
    "plt.show()"
   ]
  },
  {
   "cell_type": "code",
   "execution_count": null,
   "metadata": {},
   "outputs": [],
   "source": [
    "df_adapted_graph_filtered = df_adapted_graph[df_adapted_graph[\"learning_rate_feature\"] == \"0.01\"]\n",
    "pivot_table_graph = df_adapted_graph_filtered.pivot(index=\"learning_rate_adj\", columns=\"epochs\", values=\"28_mean\")\n",
    "pivot_table_graph.sort_index(axis=0, ascending=False, inplace=True)\n",
    "sns.heatmap(pivot_table_graph, annot=True, fmt=\".2f\", cmap=\"YlGnBu\", vmin=vmin, vmax=vmax)\n",
    "plt.title(\"Graph Adaptation (Feature LR = 0.01) \\n Accuracies by Structure LR and Epoch\")\n",
    "plt.xlabel(\"Epoch\")\n",
    "plt.ylabel(\"Structure Learning Rate\")\n",
    "plt.show()"
   ]
  },
  {
   "cell_type": "code",
   "execution_count": null,
   "metadata": {},
   "outputs": [],
   "source": [
    "import plotly.graph_objects as go\n",
    "to_plot = df_adapted_graph\n",
    "constraint_range_min = to_plot.iloc[9][\"28_mean\"]\n",
    "constraint_range_max = to_plot.iloc[0][\"28_mean\"]\n",
    "custom_colorscale = [\n",
    "    [0.0, \"darkblue\"],   # Very low values\n",
    "    [0.2, \"blue\"],       # Low values\n",
    "    [0.4, \"lightblue\"],  # Mid-low values\n",
    "    [0.6, \"green\"],      # Mid values\n",
    "    [0.725, \"lime\"],\n",
    "    [0.85, \"yellow\"],     # High values\n",
    "    [1.0, \"red\"],        # Top values\n",
    "]\n",
    "\n",
    "fig = go.Figure(\n",
    "    go.Parcoords(\n",
    "        line=dict(\n",
    "            color=to_plot[\"28_mean\"],\n",
    "            colorscale=custom_colorscale,\n",
    "            showscale=True,  # Add this line to display the colorbar\n",
    "            colorbar=dict(\n",
    "                title=\"Mean Accuracy\"  # Title for the colorbar\n",
    "            ),\n",
    "        ),\n",
    "        dimensions=[\n",
    "            {\n",
    "                \"label\": \"Learning Rate Adj\",\n",
    "                \"values\": to_plot[\"learning_rate_adj_categorical\"],\n",
    "                \"tickvals\": le_adj.transform(le_adj.classes_),\n",
    "                \"ticktext\": le_adj.classes_,\n",
    "                \n",
    "            },\n",
    "            {\n",
    "                \"label\": \"Learning Rate Feature\",\n",
    "                \"values\": to_plot[\"learning_rate_feature_categorical\"],\n",
    "                \"tickvals\": le_feature.transform(le_feature.classes_),\n",
    "                \"ticktext\": le_feature.classes_,\n",
    "                \"range\": [0, len(le_feature.classes_)-1],\n",
    "            },\n",
    "            \n",
    "            {\"label\": \"Epochs\",\n",
    "             \"values\": to_plot[\"epochs_to_plot\"],\n",
    "             \"tickvals\": np.unique(to_plot[\"epochs\"]),\n",
    "             \"ticktext\": np.unique(to_plot[\"epochs\"])},\n",
    "            {\"label\": \"Mean Accuracy\",\n",
    "             \"values\": to_plot[\"28_mean\"],\n",
    "             \"range\": [to_plot[\"28_mean\"].min(),to_plot[\"28_mean\"].max()+0.0001],\n",
    "             \"constraintrange\" : [constraint_range_min,constraint_range_max+0.0001],},\n",
    "        ],\n",
    "    )\n",
    ")\n",
    "fig.update_layout(\n",
    "    width=1600,\n",
    "    height=800,\n",
    "    title=\"Combined Structure and Feature Adaptation \\n Accuracies by Learning Rate and Epoch\"\n",
    ")\n",
    "fig.show()"
   ]
  },
  {
   "cell_type": "code",
   "execution_count": null,
   "metadata": {},
   "outputs": [],
   "source": [
    "educated_df = df_combined[df_combined.index.str.contains(\"educated\")].copy()\n",
    "educated_df = educated_df.drop(index=[\"educated_random_aleatoric_propagated\", \"educated_random_aleatoric_propagated_choose_first\"], errors='ignore')\n",
    "educated_df[\"top_percent\"] = educated_df.index.map(lambda x: x.split(\"_\")[-2])\n",
    "educated_df[\"top_percent\"] = educated_df[\"top_percent\"].astype(float)\n",
    "educated_df[\"low_percent\"] = educated_df.index.map(lambda x: x.split(\"_\")[-1])\n",
    "educated_df[\"low_percent\"] = educated_df[\"low_percent\"].astype(float)\n"
   ]
  },
  {
   "cell_type": "code",
   "execution_count": null,
   "metadata": {},
   "outputs": [],
   "source": [
    "educated_df_base = educated_df[~educated_df.index.str.contains(\"probs\")].copy()\n",
    "pivot_table_educated = educated_df_base.pivot(index=\"top_percent\", columns=\"low_percent\", values=\"28_mean\")\n",
    "pivot_table_educated.sort_index(axis=0, ascending=False, inplace=True)\n",
    "\n",
    "educated_df_augmented = educated_df[educated_df.index.str.contains(\"probs\")].copy()\n",
    "pivot_table_educated_augmented = educated_df_augmented.pivot(index=\"top_percent\", columns=\"low_percent\", values=\"28_mean\")\n",
    "pivot_table_educated_augmented.sort_index(axis=0, ascending=False, inplace=True)\n",
    "\n",
    "pivot_er_diff = pivot_table_educated_augmented - pivot_table_educated \n",
    "\n",
    "er_min = min(pivot_table_educated.min().min(), pivot_table_educated_augmented.min().min())\n",
    "er_max = max(pivot_table_educated.max().max(), pivot_table_educated_augmented.max().max())\n"
   ]
  },
  {
   "cell_type": "code",
   "execution_count": null,
   "metadata": {},
   "outputs": [],
   "source": [
    "sns.heatmap(pivot_er_diff, annot=True, fmt=\".2f\", cmap=\"coolwarm\", center=0)\n",
    "plt.title(\"Educated random \\nAccuracy difference\")\n",
    "plt.xlabel(\"Low Percent\")\n",
    "plt.ylabel(\"Top Percent\")\n",
    "plt.yticks(rotation=0)\n",
    "plt.show()"
   ]
  },
  {
   "cell_type": "code",
   "execution_count": null,
   "metadata": {},
   "outputs": [],
   "source": [
    "\n",
    "sns.heatmap(pivot_table_educated, annot=True, fmt=\".2f\", cmap=\"YlGnBu\",vmin=er_min, vmax=er_max)\n",
    "plt.title(\"Educated random \\nMax Score strategy\")\n",
    "plt.xlabel(\"Low Percent\")\n",
    "plt.ylabel(\"Top Percent\")\n",
    "plt.yticks(rotation=0)\n",
    "plt.show()"
   ]
  },
  {
   "cell_type": "code",
   "execution_count": null,
   "metadata": {},
   "outputs": [],
   "source": [
    "# BETTER ACCURACIES TEND TOWARD UPPER LEFT CORNER -> STRATEGY SCORES NODES CORRECTLY\n",
    "\n",
    "sns.heatmap(pivot_table_educated_augmented, annot=True, fmt=\".2f\", cmap=\"YlGnBu\",vmin=er_min, vmax=er_max)\n",
    "plt.title(\"Educated random\\nMax Score strategy with TTA\")\n",
    "plt.xlabel(\"Low Percent\")\n",
    "plt.ylabel(\"Top Percent\")\n",
    "plt.yticks(rotation=0)\n",
    "plt.show()"
   ]
  },
  {
   "cell_type": "code",
   "execution_count": null,
   "metadata": {},
   "outputs": [],
   "source": [
    "# List all files in the directory that start with \"mask\"\n",
    "node_filtering = torch.load(\"../output2/runs/cora_ml/gcn/aleatoric_propagated/fmask_emask_200_filter_probs_0.5_0.4_test/2025-04-10_13-13-25_5e3a79fb-0ca8-4a4f-821d-aedfe75cb6c1/mask_filter.pt\", weights_only=True)\n",
    "p = \"../output2/runs/cora_ml/gcn/aleatoric_propagated/fmask_emask_200_filter_probs_0.5_0.4_test/2025-04-10_13-13-25_5e3a79fb-0ca8-4a4f-821d-aedfe75cb6c1/\"\n",
    "mask_file_names = [f for f in os.listdir(p) if f.startswith(\"mask\") and not f.endswith(\"filter.pt\")]\n",
    "mask_file_names.sort()\n",
    "# Print the list of mask files\n",
    "print(mask_file_names)\n",
    "mask_files = [torch.load(p + f, weights_only=True) for f in mask_file_names]\n",
    "pool_masks = torch.stack([m[\"mask_train_pool\"] for m in mask_files],dim=0)\n",
    "train_masks = torch.stack([m[\"mask_train\"] for m in mask_files],dim=0)"
   ]
  },
  {
   "cell_type": "code",
   "execution_count": null,
   "metadata": {},
   "outputs": [],
   "source": [
    "train_pool_nodes =node_filtering.permute(0,3,1,2)[pool_masks].view(25,-1,28,200).permute(0,2,3,1)\n",
    "train_nodes =node_filtering.permute(0,3,1,2)[train_masks].view(25,-1,28,200).permute(0,2,3,1)"
   ]
  },
  {
   "cell_type": "code",
   "execution_count": null,
   "metadata": {},
   "outputs": [],
   "source": [
    "# histogram of average node filtering rates\n",
    "plt.hist(node_filtering.mean(0).mean(-2).mean(0), bins=100)\n",
    "plt.show()\n",
    "node_filtering.mean(0).mean(-2).mean(0).shape"
   ]
  },
  {
   "cell_type": "code",
   "execution_count": null,
   "metadata": {},
   "outputs": [],
   "source": [
    "# how different augmentations are\n",
    "plt.plot(node_filtering.mean(0).mean(-1).std(-1), label=\"Augmentation\")\n",
    "\n",
    "# how different inits are\n",
    "plt.plot(node_filtering.mean(-1).mean(-1).std(0), label=\"Init\")\n",
    "\n",
    "# how different node filter rates are \n",
    "plt.plot(node_filtering.mean(0).mean(1).std(-1), label=\"Nodes\")\n",
    "plt.legend()"
   ]
  },
  {
   "cell_type": "code",
   "execution_count": null,
   "metadata": {},
   "outputs": [],
   "source": [
    "import numpy as np\n",
    "import matplotlib.pyplot as plt\n",
    "from mpl_toolkits.mplot3d import Axes3D\n",
    "\n",
    "# Example input tensor\n",
    "tensor = train_pool_nodes.mean(0).mean(1).numpy()\n",
    "num_bins = 50  # You can adjust this\n",
    "\n",
    "# Get histogram bin edges (same for all rows)\n",
    "hist_range = (np.min(tensor), np.max(tensor))\n",
    "bin_edges = np.linspace(hist_range[0], hist_range[1], num_bins + 1)\n",
    "bin_centers = 0.5 * (bin_edges[:-1] + bin_edges[1:])\n",
    "\n",
    "# Initialize an array to hold histogram counts\n",
    "hist_counts = np.zeros((28, num_bins))\n",
    "\n",
    "# Compute histograms along axis 0 (each row)\n",
    "for i in range(28):\n",
    "    hist_counts[i], _ = np.histogram(tensor[i], bins=bin_edges)\n",
    "\n",
    "# 3D plotting\n",
    "fig = plt.figure(figsize=(12, 6))\n",
    "ax = fig.add_subplot(111, projection='3d')\n",
    "\n",
    "# Coordinates for bars\n",
    "_x = np.arange(28)\n",
    "_y = bin_centers\n",
    "_xx, _yy = np.meshgrid(_x, _y, indexing='ij')\n",
    "x, y = _xx.ravel(), _yy.ravel()\n",
    "z = np.zeros_like(x)\n",
    "dz = hist_counts.ravel()\n",
    "\n",
    "# Plot\n",
    "ax.bar3d(x, y, z, dx=0.8, dy=(bin_edges[1] - bin_edges[0]), dz=dz, shade=True)\n",
    "\n",
    "ax.set_xlabel('Iteration')\n",
    "ax.set_ylabel('Filtering ratio')\n",
    "ax.set_zlabel('Frequency')\n",
    "plt.title('3D Histogram (per row)')\n",
    "plt.tight_layout()\n",
    "plt.show()\n"
   ]
  },
  {
   "cell_type": "code",
   "execution_count": null,
   "metadata": {},
   "outputs": [],
   "source": [
    "import numpy as np\n",
    "import matplotlib.pyplot as plt\n",
    "\n",
    "# Example input tensor\n",
    "tensor = train_pool_nodes.mean(0).mean(1).numpy()\n",
    "num_bins = 30\n",
    "\n",
    "\n",
    "hist_range = (np.min(tensor), np.max(tensor))\n",
    "bin_edges = np.linspace(hist_range[0], hist_range[1], num_bins + 1)\n",
    "bin_centers = 0.5 * (bin_edges[:-1] + bin_edges[1:])\n",
    "\n",
    "# Compute histograms per row\n",
    "hist_counts = np.zeros((28, num_bins))\n",
    "for i in range(28):\n",
    "    hist_counts[i], _ = np.histogram(tensor[i], bins=bin_edges)\n",
    "\n",
    "# Compute mean for each row\n",
    "row_means = np.mean(tensor, axis=1)\n",
    "\n",
    "# Plot heatmap\n",
    "plt.figure(figsize=(10, 6))\n",
    "plt.imshow(hist_counts.T, aspect='auto', origin='lower',\n",
    "           extent=[0, 27, bin_edges[0], bin_edges[-1]],\n",
    "           cmap='coolwarm')\n",
    "\n",
    "# Overlay mean line\n",
    "x_vals = np.arange(28)\n",
    "plt.plot(x_vals, row_means, color='red', linewidth=2, label='Mean')\n",
    "\n",
    "# Labels and layout\n",
    "plt.colorbar(label='Frequency')\n",
    "plt.xlabel('Row Index')\n",
    "plt.ylabel('Bin Center')\n",
    "plt.title('2D Heatmap of Histograms + Mean Line')\n",
    "plt.legend()\n",
    "plt.tight_layout()\n",
    "plt.show()\n",
    "\n"
   ]
  },
  {
   "cell_type": "code",
   "execution_count": null,
   "metadata": {},
   "outputs": [],
   "source": [
    "import numpy as np\n",
    "import matplotlib.pyplot as plt\n",
    "from mpl_toolkits.mplot3d import Axes3D\n",
    "\n",
    "# Example input tensor\n",
    "tensor = train_pool_nodes.mean(0).mean(1).numpy()\n",
    "num_bins = 50  # You can adjust this\n",
    "\n",
    "# Get histogram bin edges (same for all rows)\n",
    "hist_range = (np.min(tensor), np.max(tensor))\n",
    "bin_edges = np.linspace(hist_range[0], hist_range[1], num_bins + 1)\n",
    "bin_centers = 0.5 * (bin_edges[:-1] + bin_edges[1:])\n",
    "\n",
    "# Initialize an array to hold histogram counts\n",
    "hist_counts = np.zeros((28, num_bins))\n",
    "\n",
    "# Compute histograms along axis 0 (each row)\n",
    "for i in range(28):\n",
    "    hist_counts[i], _ = np.histogram(tensor[i], bins=bin_edges)\n",
    "\n",
    "# 3D plotting\n",
    "fig = plt.figure(figsize=(12, 6))\n",
    "ax = fig.add_subplot(111, projection='3d')\n",
    "\n",
    "# Swapped coordinates for bars\n",
    "_x = bin_centers  # now x-axis shows histogram bins\n",
    "_y = np.arange(28)  # now y-axis shows row index\n",
    "_xx, _yy = np.meshgrid(_x, _y, indexing='ij')  # swap meshgrid axes\n",
    "x, y = _xx.ravel(), _yy.ravel()\n",
    "z = np.zeros_like(x)\n",
    "dz = hist_counts.T.ravel()  # transpose because we've swapped axes\n",
    "\n",
    "# Plot\n",
    "ax.bar3d(x, y, z, dx=(bin_edges[1] - bin_edges[0]), dy=0.8, dz=dz, shade=True)\n",
    "\n",
    "# Update labels accordingly\n",
    "ax.set_xlabel('Bin Center')\n",
    "ax.set_ylabel('Row Index')\n",
    "ax.set_zlabel('Frequency')\n",
    "\n"
   ]
  },
  {
   "cell_type": "code",
   "execution_count": null,
   "metadata": {},
   "outputs": [],
   "source": [
    "train_pool_nodes.mean(0).mean(1)[:,0]"
   ]
  },
  {
   "cell_type": "code",
   "execution_count": null,
   "metadata": {},
   "outputs": [],
   "source": [
    "\n",
    "\n",
    "stds = train_pool_nodes.mean(-1).std(-1).mean(0)\n",
    "mean_values = train_pool_nodes.mean(-1).mean(0).mean(-1)\n",
    "stds_train = train_nodes.mean(-1).std(-1).mean(0)\n",
    "mean_values_train = train_nodes.mean(-1).mean(0).mean(-1)\n",
    "plt.figure(figsize=(10,5))\n",
    "plt.fill_between(range(mean_values.shape[0]), mean_values - stds, mean_values + stds, alpha=0.2)\n",
    "plt.fill_between(range(mean_values_train.shape[0]), mean_values_train - stds_train, mean_values_train + stds_train, alpha=0.2)\n",
    "plt.plot(mean_values, label=\"Selection pool\")\n",
    "plt.plot(mean_values_train, label=\"Train set\")\n",
    "plt.xlim(left=0, right=27)\n",
    "plt.title(\"Average node filtering ratio by iteration\")\n",
    "plt.xlabel(\"Iteration\")\n",
    "plt.ylabel(\"Node filtering ratio\")\n",
    "plt.legend()\n",
    "plt.show()\n",
    "stds.shape, mean_values.shape\n"
   ]
  },
  {
   "cell_type": "code",
   "execution_count": null,
   "metadata": {},
   "outputs": [],
   "source": [
    "stds = node_filtering.mean(-1).std(-1).mean(0)\n",
    "mean_values = node_filtering.mean(-1).mean(0).mean(-1)\n",
    "plt.fill_between(range(mean_values.shape[0]), mean_values - stds, mean_values + stds, alpha=0.2)\n",
    "plt.plot(mean_values)\n",
    "plt.xlim(left=0, right=27)\n",
    "plt.title(\"Average ratio of filtered nodes by iteration\")\n",
    "plt.xlabel(\"Iteration\")\n",
    "plt.ylabel(\"Ratio of filtered nodes\")\n",
    "plt.show()\n",
    "stds.shape, mean_values.shape\n"
   ]
  },
  {
   "cell_type": "code",
   "execution_count": null,
   "metadata": {},
   "outputs": [],
   "source": [
    "df_combined.head()"
   ]
  },
  {
   "cell_type": "code",
   "execution_count": null,
   "metadata": {},
   "outputs": [],
   "source": [
    "# SENSITIVITY TO SPLIT AND MODEL INITIALIZATION\n",
    "# GRAPH ADAPTATION BEHAVES WEIRD\n",
    "# Get the accuracy array\n",
    "accuracies = {k:v[2] for k,v in metrics_dict_cora_gcn.items()}\n",
    "accuracy_array = accuracies[\"aleatoric_propagated_fmask_emask_2000_filter_probs_0.5_0.4\"]\n",
    "\n",
    "# Split the array into bins of 5 items each\n",
    "bins = np.array(np.array_split(accuracy_array, len(accuracy_array) // 5))\n",
    "\n",
    "# Calculate the standard deviation for each bin\n",
    "std_inside_split = np.std(bins, axis=1)\n",
    "std_inside_init = np.std(bins, axis=0)\n",
    "\n",
    "fig, axs = plt.subplots(1, 2, figsize=(15, 5))\n",
    "\n",
    "# First subplot\n",
    "axs[0].plot(np.std(std_inside_split, axis=0), label=\"STD by init\")\n",
    "axs[0].plot(np.std(std_inside_init, axis=0), label=\"STD by split\")\n",
    "axs[0].legend()\n",
    "axs[0].set_title(\"Standard Deviation by Init and Split\")\n",
    "\n",
    "# Second subplot\n",
    "axs[1].plot(np.mean(std_inside_split, axis=0), label=\"STD by init\")\n",
    "axs[1].plot(np.mean(std_inside_init, axis=0), label=\"STD by split\")\n",
    "axs[1].plot(np.std(accuracy_array, axis=0), label=\"std\")\n",
    "axs[1].legend()\n",
    "axs[1].set_title(\"Mean by Init and Split\")\n",
    "\n",
    "plt.show()\n"
   ]
  },
  {
   "cell_type": "code",
   "execution_count": null,
   "metadata": {},
   "outputs": [],
   "source": [
    "fig, axs = plt.subplots(1, 2, figsize=(15, 5))\n",
    "\n",
    "# Plot std_inside_split\n",
    "axs[0].plot(std_inside_split.T)\n",
    "axs[0].set_title(\"Standard Deviation Inside Split\")\n",
    "axs[0].set_xlabel(\"Index\")\n",
    "axs[0].set_ylabel(\"Standard Deviation\")\n",
    "\n",
    "# Plot std_inside_init\n",
    "axs[1].plot(std_inside_init.T)\n",
    "axs[1].set_title(\"Standard Deviation Inside Initialization\")\n",
    "axs[1].set_xlabel(\"Index\")\n",
    "axs[1].set_ylabel(\"Standard Deviation\")\n",
    "\n",
    "plt.tight_layout()\n",
    "plt.show()"
   ]
  },
  {
   "cell_type": "code",
   "execution_count": null,
   "metadata": {},
   "outputs": [],
   "source": [
    "df_combined.sort_values(by=\"28_mean\", ascending=False)\n",
    "df_ranked = df_combined[[\"5_mean\",\"10_mean\", \"20_mean\", \"28_mean\"]].rank(ascending=False)\n",
    "df_ranked[\"sum\"] = df_ranked.sum(axis=1)\n",
    "df_ranked.sort_values(by=\"sum\", ascending=True, inplace=True)\n"
   ]
  },
  {
   "cell_type": "code",
   "execution_count": null,
   "metadata": {},
   "outputs": [],
   "source": [
    "df_combined[\"sum\"] = df_combined[[\"5_mean\",\"10_mean\", \"20_mean\", \"28_mean\"]].sum(axis=1)\n",
    "df_combined.sort_values(by=\"sum\", ascending=False)[[\"5_mean\",\"10_mean\", \"20_mean\", \"28_mean\",\"sum\"]].head(20)"
   ]
  },
  {
   "cell_type": "code",
   "execution_count": null,
   "metadata": {},
   "outputs": [],
   "source": [
    "def get_count_dict(t):\n",
    "    ixs = torch.tensor([l[1:] for l in t[\"acquired_idxs\"][:10]]).flatten()\n",
    "    count = torch.bincount(ixs)\n",
    "    keys = torch.where(count)\n",
    "    count_dict = {k.item():count[k].item() for k in keys[0]}\n",
    "    return count_dict, count,ixs"
   ]
  },
  {
   "cell_type": "code",
   "execution_count": null,
   "metadata": {},
   "outputs": [],
   "source": [
    "metrics_dict_cora_gcn.keys()"
   ]
  },
  {
   "cell_type": "code",
   "execution_count": null,
   "metadata": {},
   "outputs": [],
   "source": [
    "key1 = \"aleatoric_propagated_fmask_emask_200_filter_probs_0.5_0.4\"\n",
    "key2 = \"geem\"\n",
    "\n",
    "\n",
    "count_dict_1, count_1, ixs_1 = get_count_dict(metrics_dict_cora_gcn[key1][3])\n",
    "# count_dict_1, count_1, ixs_1 = get_count_dict(runs)\n",
    "print(f\"Maximally acquired index: {count_1.argmax()} with {count_1.max()} acquisitions\")\n",
    "\n",
    "count_dict_2, count_2, ixs_2 = get_count_dict(metrics_dict_cora_gcn[key2][3])\n",
    "print(f\"Maximally acquired index: {count_2.argmax()} with {count_2.max()} acquisitions\")\n",
    "print(\"------\")\n",
    "\n",
    "print(f\"Intersection of acquired indices: {len(set(count_dict_1.keys()).intersection(set(count_dict_2.keys())))}\")\n",
    "print(f\"Union of acquired indices: {len(set(count_dict_1.keys()).union(set(count_dict_2.keys())))}\")\n",
    "print(f\"{key1} acquired indices: {len(count_dict_1)}\")\n",
    "print(f\"{key2} acquired indices: {len(count_dict_2)}\")"
   ]
  },
  {
   "cell_type": "code",
   "execution_count": 79,
   "metadata": {},
   "outputs": [
    {
     "data": {
      "text/plain": [
       "['aleatoric_propagated_fnoise_emask_100_filter_probs_0.5_0.3',\n",
       " 'aleatoric_propagated_fnoise_emask_100_filter_probs_0.1_0.3',\n",
       " 'aleatoric_propagated_fnoise_emask_100_filter_probs_0.4_0.5',\n",
       " 'aleatoric_propagated_fnoise_emask_100_filter_probs_0.5_0.1',\n",
       " 'aleatoric_propagated_fnoise_emask_100_filter_probs_0.5_0.2',\n",
       " 'aleatoric_propagated_fnoise_emask_100_filter_probs_0.2_0.1',\n",
       " 'aleatoric_propagated_fnoise_emask_100_filter_probs_0.4_0.2',\n",
       " 'aleatoric_propagated_fnoise_emask_100_filter_probs_0.4_0.4',\n",
       " 'aleatoric_propagated_fnoise_emask_100_filter_probs_0.1_0.2',\n",
       " 'aleatoric_propagated_fnoise_emask_100_filter_probs_0.1_0.1',\n",
       " 'aleatoric_propagated_fnoise_emask_100_filter_probs_0.3_0.5',\n",
       " 'aleatoric_propagated_fnoise_emask_100_filter_probs_0.4_0.1',\n",
       " 'aleatoric_propagated_fnoise_emask_100_filter_probs_0.2_0.4',\n",
       " 'aleatoric_propagated_fnoise_emask_100_filter_probs_0.2_0.5',\n",
       " 'aleatoric_propagated_fnoise_emask_100_filter_probs_0.2_0.3',\n",
       " 'aleatoric_propagated_fnoise_emask_100_filter_probs_0.3_0.4',\n",
       " 'aleatoric_propagated_fnoise_emask_100_filter_probs_0.3_0.3',\n",
       " 'aleatoric_propagated_fnoise_emask_100_filter_probs_0.3_0.2',\n",
       " 'aleatoric_propagated_fnoise_emask_100_filter_probs_0.4_0.3',\n",
       " 'aleatoric_propagated_fnoise_emask_100_filter_probs_0.3_0.1',\n",
       " 'aleatoric_propagated_fnoise_emask_100_filter_probs_0.1_0.5',\n",
       " 'aleatoric_propagated_fnoise_emask_100_filter_probs',\n",
       " 'aleatoric_propagated_fnoise_emask_100_filter_probs_0.2_0.2',\n",
       " 'aleatoric_propagated_fnoise_emask_100_filter_probs_0.5_0.4',\n",
       " 'aleatoric_propagated_fnoise_emask_100_filter_probs_0.1_0.4',\n",
       " 'aleatoric_propagated_fnoise_emask_100_filter_probs_0.5_0.5']"
      ]
     },
     "execution_count": 79,
     "metadata": {},
     "output_type": "execute_result"
    }
   ],
   "source": [
    "[k for k in metrics_dict_cora_gcn.keys() if k.startswith(\"aleatoric_propagated_fnoise_emask_100_filter_probs\")]"
   ]
  },
  {
   "cell_type": "code",
   "execution_count": 75,
   "metadata": {},
   "outputs": [
    {
     "ename": "KeyError",
     "evalue": "'aleatoric_propagated_fnoise_emask_100_filter_probs_0.1_0.4_42'",
     "output_type": "error",
     "traceback": [
      "\u001b[0;31m---------------------------------------------------------------------------\u001b[0m",
      "\u001b[0;31mKeyError\u001b[0m                                  Traceback (most recent call last)",
      "Cell \u001b[0;32mIn[75], line 1\u001b[0m\n\u001b[0;32m----> 1\u001b[0m \u001b[43m[\u001b[49m\u001b[43mmetrics_dict_cora_gcn\u001b[49m\u001b[43m[\u001b[49m\u001b[43mx\u001b[49m\u001b[43m]\u001b[49m\u001b[43m \u001b[49m\u001b[38;5;28;43;01mfor\u001b[39;49;00m\u001b[43m \u001b[49m\u001b[43mx\u001b[49m\u001b[43m \u001b[49m\u001b[38;5;129;43;01min\u001b[39;49;00m\u001b[43m \u001b[49m\u001b[43mbig_cora_df\u001b[49m\u001b[38;5;241;43m.\u001b[39;49m\u001b[43mindex\u001b[49m\u001b[43m]\u001b[49m\n",
      "Cell \u001b[0;32mIn[75], line 1\u001b[0m, in \u001b[0;36m<listcomp>\u001b[0;34m(.0)\u001b[0m\n\u001b[0;32m----> 1\u001b[0m [\u001b[43mmetrics_dict_cora_gcn\u001b[49m\u001b[43m[\u001b[49m\u001b[43mx\u001b[49m\u001b[43m]\u001b[49m \u001b[38;5;28;01mfor\u001b[39;00m x \u001b[38;5;129;01min\u001b[39;00m big_cora_df\u001b[38;5;241m.\u001b[39mindex]\n",
      "\u001b[0;31mKeyError\u001b[0m: 'aleatoric_propagated_fnoise_emask_100_filter_probs_0.1_0.4_42'"
     ]
    }
   ],
   "source": [
    "[metrics_dict_cora_gcn[x] for x in big_cora_df.index]"
   ]
  },
  {
   "cell_type": "code",
   "execution_count": null,
   "metadata": {},
   "outputs": [],
   "source": [
    "d = []\n",
    "for k,v in metrics_dict_cora_gcn.items():\n",
    "    cd, c, i = get_count_dict(v[3])\n",
    "    d.append([k,len(cd), c.max().item(), c.argmax().item()])\n",
    "\n",
    "count_dict_df = pd.DataFrame(d, columns=[\"key\", \"num_acquired_indices\", \"max_acquisitions\", \"max_acquisition_index\"])\n",
    "count_dict_df.sort_values(by=\"num_acquired_indices\", ascending=True, inplace=True)\n",
    "count_dict_df"
   ]
  },
  {
   "cell_type": "code",
   "execution_count": null,
   "metadata": {},
   "outputs": [],
   "source": [
    "count_dict, count, ixs =  get_count_dict(metrics_dict_cora_gcn[key1][3])\n",
    "\n",
    "plt.hist(list(count_dict.values()), bins=100)\n",
    "plt.show()"
   ]
  }
 ],
 "metadata": {
  "kernelspec": {
   "display_name": "uq_graph",
   "language": "python",
   "name": "python3"
  },
  "language_info": {
   "codemirror_mode": {
    "name": "ipython",
    "version": 3
   },
   "file_extension": ".py",
   "mimetype": "text/x-python",
   "name": "python",
   "nbconvert_exporter": "python",
   "pygments_lexer": "ipython3",
   "version": "3.11.10"
  }
 },
 "nbformat": 4,
 "nbformat_minor": 2
}
