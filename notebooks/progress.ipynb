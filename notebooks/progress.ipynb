{
 "cells": [
  {
   "cell_type": "code",
   "execution_count": 1,
   "metadata": {},
   "outputs": [],
   "source": [
    "import os\n",
    "import pandas as pd\n",
    "\n",
    "\n",
    "import itertools\n",
    "    \n",
    "path = os.path.join(\"..\",\"output2\", \"runs\")"
   ]
  },
  {
   "cell_type": "code",
   "execution_count": 3,
   "metadata": {},
   "outputs": [],
   "source": [
    "from notebook_utils import *"
   ]
  },
  {
   "cell_type": "code",
   "execution_count": 4,
   "metadata": {},
   "outputs": [],
   "source": [
    "expected_datasets = [\n",
    "    \"cora_ml\", \"citeseer\", \"amazon_photos\",\"pubmed\"\n",
    "]\n",
    "expected_models= [\"gcn\", \"sgc\", \"seal\"]\n",
    "expected_strategies_common = [\n",
    "    \"aleatoric_propagated\", \"entropy\", \"age\", \"anrmab\", \n",
    "]\n",
    "expected_strategies_sgc = [\n",
    "    \"geem\", \"approximate_uncertainty_esp\", \"approximate_uncertainty_mp\"\n",
    "]"
   ]
  },
  {
   "cell_type": "code",
   "execution_count": 5,
   "metadata": {},
   "outputs": [
    {
     "name": "stdout",
     "output_type": "stream",
     "text": [
      "nohup python main.py model=gcn data=cora_ml acquisition_strategy=random data.num_splits=5 model.num_inits=5 print_summary=True model.cached=True acquisition_strategy.adaptation_enabled=False acquisition_strategy.tta_enabled=False > logs_new/cora_ml_gcn_random.log &\n",
      "nohup python main.py model=sgc data=cora_ml acquisition_strategy=random data.num_splits=5 model.num_inits=5 print_summary=True model.cached=True acquisition_strategy.adaptation_enabled=False acquisition_strategy.tta_enabled=False > logs_new/cora_ml_sgc_random.log &\n",
      "nohup python main.py model=gcn data=citeseer acquisition_strategy=random data.num_splits=5 model.num_inits=5 print_summary=True model.cached=True acquisition_strategy.adaptation_enabled=False acquisition_strategy.tta_enabled=False > logs_new/citeseer_gcn_random.log &\n",
      "nohup python main.py model=sgc data=citeseer acquisition_strategy=random data.num_splits=5 model.num_inits=5 print_summary=True model.cached=True acquisition_strategy.adaptation_enabled=False acquisition_strategy.tta_enabled=False > logs_new/citeseer_sgc_random.log &\n",
      "nohup python main.py model=gcn data=amazon_photos acquisition_strategy=random data.num_splits=5 model.num_inits=5 print_summary=True model.cached=True acquisition_strategy.adaptation_enabled=False acquisition_strategy.tta_enabled=False > logs_new/amazon_photos_gcn_random.log &\n",
      "nohup python main.py model=sgc data=amazon_photos acquisition_strategy=random data.num_splits=5 model.num_inits=5 print_summary=True model.cached=True acquisition_strategy.adaptation_enabled=False acquisition_strategy.tta_enabled=False > logs_new/amazon_photos_sgc_random.log &\n",
      "nohup python main.py model=gcn data=pubmed acquisition_strategy=random data.num_splits=5 model.num_inits=5 print_summary=True model.cached=True acquisition_strategy.adaptation_enabled=False acquisition_strategy.tta_enabled=False > logs_new/pubmed_gcn_random.log &\n",
      "nohup python main.py model=sgc data=pubmed acquisition_strategy=random data.num_splits=5 model.num_inits=5 print_summary=True model.cached=True acquisition_strategy.adaptation_enabled=False acquisition_strategy.tta_enabled=False > logs_new/pubmed_sgc_random.log &\n"
     ]
    }
   ],
   "source": [
    "for d,m,s in list(itertools.product(expected_datasets, [\"gcn\", \"sgc\"], [\"random\"])):\n",
    "    print(generate_prompt(d,m,s))"
   ]
  },
  {
   "cell_type": "code",
   "execution_count": 7,
   "metadata": {},
   "outputs": [],
   "source": [
    "\n",
    "cartesian_product_gcn = list(itertools.product(expected_datasets, [\"gcn\"], expected_strategies_common))\n",
    "cartesian_product_sgc = list(itertools.product(expected_datasets, [\"sgc\"], expected_strategies_sgc))\n",
    "cartesian_product_sgc = list(itertools.product(expected_datasets, [\"sgc\"], expected_strategies_common))\n",
    "cartesian_product_seal = list(itertools.product(expected_datasets, [\"seal\"], [\"seal\"]))\n",
    "cartesian_product = cartesian_product_gcn + cartesian_product_sgc + cartesian_product_seal\n",
    "# cartesian_product = cartesian_product_sgc\n",
    "cartesian_product.remove(('cora_ml', 'gcn', 'aleatoric_propagated'))\n",
    "cartesian_product.remove(('cora_ml', 'sgc', 'aleatoric_propagated'))\n",
    "cartesian_product.sort(key=lambda x: (x[0], x[1], x[2]))\n",
    "\n"
   ]
  },
  {
   "cell_type": "code",
   "execution_count": 8,
   "metadata": {},
   "outputs": [
    {
     "data": {
      "text/plain": [
       "[('amazon_photos', 'gcn', 'age'),\n",
       " ('amazon_photos', 'gcn', 'aleatoric_propagated'),\n",
       " ('amazon_photos', 'gcn', 'anrmab'),\n",
       " ('amazon_photos', 'gcn', 'entropy'),\n",
       " ('amazon_photos', 'seal', 'seal'),\n",
       " ('amazon_photos', 'sgc', 'age'),\n",
       " ('amazon_photos', 'sgc', 'aleatoric_propagated'),\n",
       " ('amazon_photos', 'sgc', 'anrmab'),\n",
       " ('amazon_photos', 'sgc', 'entropy'),\n",
       " ('citeseer', 'gcn', 'age'),\n",
       " ('citeseer', 'gcn', 'aleatoric_propagated'),\n",
       " ('citeseer', 'gcn', 'anrmab'),\n",
       " ('citeseer', 'gcn', 'entropy'),\n",
       " ('citeseer', 'seal', 'seal'),\n",
       " ('citeseer', 'sgc', 'age'),\n",
       " ('citeseer', 'sgc', 'aleatoric_propagated'),\n",
       " ('citeseer', 'sgc', 'anrmab'),\n",
       " ('citeseer', 'sgc', 'entropy'),\n",
       " ('cora_ml', 'gcn', 'age'),\n",
       " ('cora_ml', 'gcn', 'anrmab'),\n",
       " ('cora_ml', 'gcn', 'entropy'),\n",
       " ('cora_ml', 'seal', 'seal'),\n",
       " ('cora_ml', 'sgc', 'age'),\n",
       " ('cora_ml', 'sgc', 'anrmab'),\n",
       " ('cora_ml', 'sgc', 'entropy'),\n",
       " ('pubmed', 'gcn', 'age'),\n",
       " ('pubmed', 'gcn', 'aleatoric_propagated'),\n",
       " ('pubmed', 'gcn', 'anrmab'),\n",
       " ('pubmed', 'gcn', 'entropy'),\n",
       " ('pubmed', 'seal', 'seal'),\n",
       " ('pubmed', 'sgc', 'age'),\n",
       " ('pubmed', 'sgc', 'aleatoric_propagated'),\n",
       " ('pubmed', 'sgc', 'anrmab'),\n",
       " ('pubmed', 'sgc', 'entropy')]"
      ]
     },
     "execution_count": 8,
     "metadata": {},
     "output_type": "execute_result"
    }
   ],
   "source": [
    "cartesian_product"
   ]
  },
  {
   "cell_type": "code",
   "execution_count": 9,
   "metadata": {},
   "outputs": [],
   "source": [
    "tta_base_prompts = [generate_prompt_tta(dataset, model, strategy, \"noise\", \"mask\", 200, True, True, 1, 42, p_node=0.4, p_edge=0.4) for dataset,model,strategy in cartesian_product]"
   ]
  },
  {
   "cell_type": "code",
   "execution_count": 10,
   "metadata": {},
   "outputs": [],
   "source": [
    "with open(\"../scripts/tta_base_prompts.txt\", \"w\") as f:\n",
    "    for tta_base_prompt in tta_base_prompts:\n",
    "        f.write(str(tta_base_prompt) + \"\\n\")\n",
    "\n"
   ]
  },
  {
   "cell_type": "code",
   "execution_count": null,
   "metadata": {},
   "outputs": [],
   "source": [
    "df = pd.DataFrame(cartesian_product, columns=[\"dataset\", \"model\", \"strategy\"])\n",
    "df.set_index([\"dataset\", \"model\", \"strategy\"], inplace=True)\n",
    "df[\"done\"] = False\n",
    "df[\"progress\"] = False\n",
    "df[\"progress_percentage\"] = 0.0\n",
    "df[\"progress_count\"] = 0\n",
    "df.sort_index(inplace=True)"
   ]
  },
  {
   "cell_type": "code",
   "execution_count": null,
   "metadata": {},
   "outputs": [],
   "source": [
    "df = df.sort_index()\n",
    "df = update_progress(df, path)"
   ]
  },
  {
   "cell_type": "code",
   "execution_count": null,
   "metadata": {},
   "outputs": [],
   "source": [
    "df[(df[\"progress\"] == True) &\n",
    "   (df[\"done\"] == False)]"
   ]
  },
  {
   "cell_type": "code",
   "execution_count": null,
   "metadata": {},
   "outputs": [],
   "source": [
    "df[ (df.index.get_level_values(\"strategy\") == \"geem\")]"
   ]
  },
  {
   "cell_type": "code",
   "execution_count": null,
   "metadata": {},
   "outputs": [],
   "source": [
    "df[((df.index.get_level_values(\"dataset\") == \"cora_ml\") |\n",
    "   (df.index.get_level_values(\"dataset\") == \"citeseer\") |\n",
    "   (df.index.get_level_values(\"dataset\") == \"amazon_photos\")) &\n",
    "   (df[\"done\"] == False)]"
   ]
  },
  {
   "cell_type": "code",
   "execution_count": 5,
   "metadata": {},
   "outputs": [],
   "source": [
    "from graph_al.acquisition.enum import *\n",
    "dataset, model, strategy, seed = \"cora_ml\", \"gcn\", \"aleatoric_propagated\", 42\n",
    "\n",
    "lr_feat = [0.01, 0.001, 0.0005 ,0.0001]\n",
    "lr_adj = [0.1, 0.05,0.01]\n",
    "epochs = [5, 10, 20, 30, 50]\n",
    "loop_adj, loop_feat = 1,4\n",
    "mode = [AdaptationMode.FEATURE, AdaptationMode.STRUCTURE, AdaptationMode.BOTH]\n",
    "# integration = [AdaptationIntegration.QUERY, AdaptationIntegration.FINE_TUNE,\n",
    "#                AdaptationIntegration.TRAIN,AdaptationIntegration.TRAIN_RECURSIVE]\n",
    "integration = AdaptationIntegration.TRAIN_RECURSIVE\n",
    "scale = 1\n",
    "\n",
    "\n",
    "cartesian_product_feat = list(itertools.product(lr_feat, epochs))\n",
    "cartesian_product_adj = list(itertools.product(lr_adj, epochs))\n",
    "cartesian_product_both = list(itertools.product(lr_adj, lr_feat, epochs))\n",
    "\n",
    "adaptation_configs = []\n",
    "\n",
    "for lr_f, epoch in cartesian_product_feat:\n",
    "    adaptation_configs.append(AdaptationConfig(\n",
    "        lr_feat=lr_f,\n",
    "        epochs=epoch,\n",
    "        mode=AdaptationMode.FEATURE,\n",
    "        integration=integration,\n",
    "        seed = seed\n",
    "    ))\n",
    "\n",
    "# for lr_a, epoch in cartesian_product_adj:\n",
    "#     adaptation_configs.append(AdaptationConfig(\n",
    "#         lr_adj=lr_a,\n",
    "#         epochs=epoch,\n",
    "#         mode=AdaptationMode.STRUCTURE,\n",
    "#         integration=integration,\n",
    "#         seed = seed\n",
    "#     ))\n",
    "\n",
    "for lr_a, lr_f, epoch in cartesian_product_both:\n",
    "    adaptation_configs.append(AdaptationConfig(\n",
    "        lr_feat=lr_f,\n",
    "        lr_adj=lr_a,\n",
    "        epochs=epoch,\n",
    "        mode=AdaptationMode.BOTH,\n",
    "        integration=integration,\n",
    "        seed = seed\n",
    "    ))\n",
    "\n",
    "adaptation_prompts =  [generate_prompt_adaptation(dataset, model, strategy, adaptation_config, scale, seed)[0] for adaptation_config in adaptation_configs]\n"
   ]
  },
  {
   "cell_type": "code",
   "execution_count": 7,
   "metadata": {},
   "outputs": [],
   "source": [
    "with open(\"../scripts/adaptation_prompts_recursive.txt\", \"w\") as f:\n",
    "    for adaptation_prompt in adaptation_prompts:\n",
    "        f.write(str(adaptation_prompt) + \"\\n\")"
   ]
  },
  {
   "cell_type": "code",
   "execution_count": null,
   "metadata": {},
   "outputs": [],
   "source": [
    "adaptation_df = pd.DataFrame([{\n",
    "    \"lr_feat\": config.lr_feat if (config.mode == AdaptationMode.FEATURE) or (config.mode == AdaptationMode.BOTH) else None,\n",
    "    \"lr_adj\": config.lr_adj if (config.mode == AdaptationMode.STRUCTURE) or (config.mode == AdaptationMode.BOTH) else None,\n",
    "    \"epochs\": config.epochs,\n",
    "    \"integration\": config.integration,\n",
    "    \"mode\": config.mode\n",
    "} for config in adaptation_configs])\n",
    "\n",
    "adaptation_paths = [generate_prompt_adaptation(dataset, model, strategy, adaptation_config, scale, seed)[1] for adaptation_config in adaptation_configs]\n",
    "adaptation_df[\"metrics_exists\"] = [\n",
    "    any(\n",
    "        os.path.exists(os.path.join(path, adaptation_path, subdir, \"acquisition_curve_metrics.pt\"))\n",
    "        for subdir in os.listdir(os.path.join(path, adaptation_path))\n",
    "    ) if os.path.exists(os.path.join(path, adaptation_path)) else False\n",
    "    for adaptation_path in adaptation_paths\n",
    "]\n",
    "\n",
    "adaptation_df[\"progress_count\"] = [\n",
    "    sum(\n",
    "        file.startswith(\"acquisition_metrics\") for subdir in os.listdir(os.path.join(path, adaptation_path)) for file in os.listdir(os.path.join(path, adaptation_path, subdir))\n",
    "    ) if os.path.exists(os.path.join(path, adaptation_path)) else 0\n",
    "    for adaptation_path in adaptation_paths\n",
    "]\n",
    "\n",
    "\n",
    "adaptation_df[\"elapsed_time\"] = [\n",
    "    (pd.Timestamp.now() - pd.Timestamp(os.path.getctime(os.path.join(path, adaptation_path)), unit='s')).total_seconds() / 60 - 60\n",
    "    if os.path.exists(os.path.join(path, adaptation_path)) else None\n",
    "    for adaptation_path in adaptation_paths\n",
    "]\n",
    "\n"
   ]
  },
  {
   "cell_type": "code",
   "execution_count": null,
   "metadata": {},
   "outputs": [],
   "source": [
    "adaptation_df[adaptation_df[\"metrics_exists\"] == False]"
   ]
  },
  {
   "cell_type": "code",
   "execution_count": 8,
   "metadata": {},
   "outputs": [],
   "source": [
    "dataset, model, strategy, seed = \"pubmed\", \"gcn\", \"age\", \"42\"\n",
    "\n",
    "node_strats = [\"mask\", \"noise\", \"none\"]\n",
    "edge_strats = [\"mask\", \"none\"]\n",
    "filters = [True, False]\n",
    "num, probs, scale = 100, True, 1\n",
    "p = [0.05, 0.1, 0.15,0.2, 0.3, 0.4, 0.5,0.6, 0.7, 0.8, 0.9]\n",
    "p_edges= [0.05, 0.1,0.2, 0.6, 0.7, 0.9]\n",
    "p_both = [0.1, 0.2, 0.3, 0.4, 0.5]\n",
    "\n",
    "# cartesian_product_tta = list(itertools.product(node_strats, edge_strats, filters))\n",
    "cartesian_product_tta_node = list(itertools.product([\"mask\", \"noise\"], p))\n",
    "\n",
    "to_remove = [\n",
    "        (\"noise\",0.15),\n",
    "        (\"noise\",0.1),\n",
    "        (\"noise\",0.6),\n",
    "        (\"noise\",0.9),\n",
    "        (\"mask\",0.15),\n",
    "     ]\n",
    "\n",
    "for i in to_remove:\n",
    "    cartesian_product_tta_node.remove(i)\n",
    "    \n",
    "cartesian_product_tta_both = list(itertools.product([\"mask\"], p_both, p_both))\n",
    "    \n",
    "tta_node_prompts = [generate_prompt_tta(dataset, model, strategy, node_strat, \"none\", num, True, probs, scale, seed, p_node=p_node)\n",
    "                    for node_strat, p_node in cartesian_product_tta_node]\n",
    "tta_edge_prompts = [generate_prompt_tta(dataset, model, strategy, \"none\", \"mask\", num, True, probs, scale, seed, p_edge=p_edge)\n",
    "                    for p_edge in p_edges]\n",
    "tta_both_prompts =  [generate_prompt_tta(dataset, model, strategy, node_strat, \"mask\", num, True, probs, scale, seed, p_node=p_n, p_edge=p_e) for node_strat, p_n, p_e in cartesian_product_tta_both]\n",
    "\n",
    "tta_hyperparam = tta_node_prompts + tta_edge_prompts\n"
   ]
  },
  {
   "cell_type": "code",
   "execution_count": 6,
   "metadata": {},
   "outputs": [
    {
     "data": {
      "text/plain": [
       "25"
      ]
     },
     "execution_count": 6,
     "metadata": {},
     "output_type": "execute_result"
    }
   ],
   "source": [
    "len(cartesian_product_tta_both)"
   ]
  },
  {
   "cell_type": "code",
   "execution_count": 10,
   "metadata": {},
   "outputs": [],
   "source": [
    "with open(\"../scripts/gcn_age_pubmed_tta_both_filter_prompts.txt\", \"w\") as f:\n",
    "    for prompt in tta_both_prompts:\n",
    "        f.write(prompt + \"\\n\")"
   ]
  },
  {
   "cell_type": "code",
   "execution_count": 9,
   "metadata": {},
   "outputs": [],
   "source": [
    "tta_num_prompts = [generate_prompt_tta(\"pubmed\", \"gcn\", \"aleatoric_propagated\", \"mask\", \"mask\", num, True, probs, scale, seed, p_node=0.1, p_edge=0.2) for num in [\n",
    "                                                                                                                                                                   200,500,1000,2000]]"
   ]
  },
  {
   "cell_type": "code",
   "execution_count": 10,
   "metadata": {},
   "outputs": [
    {
     "name": "stdout",
     "output_type": "stream",
     "text": [
      "nohup python main.py model=gcn data=pubmed acquisition_strategy=aleatoric_propagated data.num_splits=5 model.num_inits=5 print_summary=True model.cached=False seed=42 acquisition_strategy.adaptation_enabled=False acquisition_strategy.tta_enabled=True acquisition_strategy.scale=1 acquisition_strategy.tta.strat_node=mask acquisition_strategy.tta.strat_edge=mask acquisition_strategy.tta.num=200 acquisition_strategy.tta.p_node=0.1 acquisition_strategy.tta.p_edge=0.2 acquisition_strategy.tta.filter=True acquisition_strategy.tta.probs=True wandb.name=fmask_emask_200_filter_probs_0.1_0.2 > logs_new/pubmed_gcn_aleatoric_propagated_tta_fmask_emask_200_filter_probs_0.1_0.2.log &\n",
      "nohup python main.py model=gcn data=pubmed acquisition_strategy=aleatoric_propagated data.num_splits=5 model.num_inits=5 print_summary=True model.cached=False seed=42 acquisition_strategy.adaptation_enabled=False acquisition_strategy.tta_enabled=True acquisition_strategy.scale=1 acquisition_strategy.tta.strat_node=mask acquisition_strategy.tta.strat_edge=mask acquisition_strategy.tta.num=500 acquisition_strategy.tta.p_node=0.1 acquisition_strategy.tta.p_edge=0.2 acquisition_strategy.tta.filter=True acquisition_strategy.tta.probs=True wandb.name=fmask_emask_500_filter_probs_0.1_0.2 > logs_new/pubmed_gcn_aleatoric_propagated_tta_fmask_emask_500_filter_probs_0.1_0.2.log &\n",
      "nohup python main.py model=gcn data=pubmed acquisition_strategy=aleatoric_propagated data.num_splits=5 model.num_inits=5 print_summary=True model.cached=False seed=42 acquisition_strategy.adaptation_enabled=False acquisition_strategy.tta_enabled=True acquisition_strategy.scale=1 acquisition_strategy.tta.strat_node=mask acquisition_strategy.tta.strat_edge=mask acquisition_strategy.tta.num=1000 acquisition_strategy.tta.p_node=0.1 acquisition_strategy.tta.p_edge=0.2 acquisition_strategy.tta.filter=True acquisition_strategy.tta.probs=True wandb.name=fmask_emask_1000_filter_probs_0.1_0.2 > logs_new/pubmed_gcn_aleatoric_propagated_tta_fmask_emask_1000_filter_probs_0.1_0.2.log &\n",
      "nohup python main.py model=gcn data=pubmed acquisition_strategy=aleatoric_propagated data.num_splits=5 model.num_inits=5 print_summary=True model.cached=False seed=42 acquisition_strategy.adaptation_enabled=False acquisition_strategy.tta_enabled=True acquisition_strategy.scale=1 acquisition_strategy.tta.strat_node=mask acquisition_strategy.tta.strat_edge=mask acquisition_strategy.tta.num=2000 acquisition_strategy.tta.p_node=0.1 acquisition_strategy.tta.p_edge=0.2 acquisition_strategy.tta.filter=True acquisition_strategy.tta.probs=True wandb.name=fmask_emask_2000_filter_probs_0.1_0.2 > logs_new/pubmed_gcn_aleatoric_propagated_tta_fmask_emask_2000_filter_probs_0.1_0.2.log &\n"
     ]
    }
   ],
   "source": [
    "for t in tta_num_prompts:\n",
    "    print(t)"
   ]
  },
  {
   "cell_type": "code",
   "execution_count": 6,
   "metadata": {},
   "outputs": [],
   "source": [
    "ds = \"citeseer\"\n",
    "strategy = \"approximate_uncertainty_esp\"\n",
    "with open(f\"../scripts/geem_seeds_{ds}.txt\", \"r\") as file:\n",
    "    seeds = file.readlines()\n",
    "    seeds = [int(seed.strip()) for seed in seeds]\n",
    "# with open(f\"../scripts/{strategy}_tta_command_{ds}.txt\", \"w\") as file:\n",
    "#     for seed in seeds:\n",
    "#         prompt = generate_prompt_tta(ds, \"sgc\", strategy, \"mask\", \"mask\", 200, True, True, 1, seed, p_node=0.5, p_edge=0.4, n_splits=1, n_inits=1)\n",
    "#         file.write(prompt + \"\\n\")\n",
    "with open(f\"../scripts/{strategy}_command_{ds}.txt\", \"w\") as file:\n",
    "    for seed in seeds:\n",
    "        prompt = generate_prompt_geem(ds, \"sgc\", strategy, seed)\n",
    "        file.write(prompt + \"\\n\")"
   ]
  },
  {
   "cell_type": "code",
   "execution_count": null,
   "metadata": {},
   "outputs": [],
   "source": []
  },
  {
   "cell_type": "code",
   "execution_count": 4,
   "metadata": {},
   "outputs": [],
   "source": [
    "top_percents = [float(i*10) for i in range(10)]\n",
    "low_percents = [0,0.5,1,5,10,20]\n",
    "cartesian_product_educated_random_percentages = list(itertools.product(top_percents, low_percents))\n",
    "cartesian_product_educated_random_percentages = [(top_percent, low_percent) for top_percent, low_percent in cartesian_product_educated_random_percentages if (top_percent + low_percent < 100)]"
   ]
  },
  {
   "cell_type": "code",
   "execution_count": 5,
   "metadata": {},
   "outputs": [
    {
     "data": {
      "text/plain": [
       "57"
      ]
     },
     "execution_count": 5,
     "metadata": {},
     "output_type": "execute_result"
    }
   ],
   "source": [
    "len(cartesian_product_educated_random_percentages)"
   ]
  },
  {
   "cell_type": "code",
   "execution_count": 6,
   "metadata": {},
   "outputs": [
    {
     "name": "stdout",
     "output_type": "stream",
     "text": [
      "nohup python main.py model=gcn data=pubmed acquisition_strategy=educated_random data.num_splits=5 model.num_inits=5 print_summary=True model.cached=True seed=42 acquisition_strategy.adaptation_enabled=False acquisition_strategy.scale=1 acquisition_strategy.tta_enabled=False acquisition_strategy.top_percent=0.0 acquisition_strategy.low_percent=0 +acquisition_strategy.embedded_strategy=acquire_by_prediction_attribute +acquisition_strategy.embedded_strategy.higher_is_better=false +acquisition_strategy.embedded_strategy.attribute=MAX_SCORE +acquisition_strategy.embedded_strategy.propagated=True wandb.name=aleatoric_propagated_0.0_0 > logs_new/pubmed_gcn_educated_random_aleatoric_propagated_0.0_0.log &\n",
      "nohup python main.py model=gcn data=pubmed acquisition_strategy=educated_random data.num_splits=5 model.num_inits=5 print_summary=True model.cached=True seed=42 acquisition_strategy.adaptation_enabled=False acquisition_strategy.scale=1 acquisition_strategy.tta_enabled=False acquisition_strategy.top_percent=0.0 acquisition_strategy.low_percent=0.5 +acquisition_strategy.embedded_strategy=acquire_by_prediction_attribute +acquisition_strategy.embedded_strategy.higher_is_better=false +acquisition_strategy.embedded_strategy.attribute=MAX_SCORE +acquisition_strategy.embedded_strategy.propagated=True wandb.name=aleatoric_propagated_0.0_0.5 > logs_new/pubmed_gcn_educated_random_aleatoric_propagated_0.0_0.5.log &\n",
      "nohup python main.py model=gcn data=pubmed acquisition_strategy=educated_random data.num_splits=5 model.num_inits=5 print_summary=True model.cached=True seed=42 acquisition_strategy.adaptation_enabled=False acquisition_strategy.scale=1 acquisition_strategy.tta_enabled=False acquisition_strategy.top_percent=0.0 acquisition_strategy.low_percent=1 +acquisition_strategy.embedded_strategy=acquire_by_prediction_attribute +acquisition_strategy.embedded_strategy.higher_is_better=false +acquisition_strategy.embedded_strategy.attribute=MAX_SCORE +acquisition_strategy.embedded_strategy.propagated=True wandb.name=aleatoric_propagated_0.0_1 > logs_new/pubmed_gcn_educated_random_aleatoric_propagated_0.0_1.log &\n",
      "nohup python main.py model=gcn data=pubmed acquisition_strategy=educated_random data.num_splits=5 model.num_inits=5 print_summary=True model.cached=True seed=42 acquisition_strategy.adaptation_enabled=False acquisition_strategy.scale=1 acquisition_strategy.tta_enabled=False acquisition_strategy.top_percent=0.0 acquisition_strategy.low_percent=5 +acquisition_strategy.embedded_strategy=acquire_by_prediction_attribute +acquisition_strategy.embedded_strategy.higher_is_better=false +acquisition_strategy.embedded_strategy.attribute=MAX_SCORE +acquisition_strategy.embedded_strategy.propagated=True wandb.name=aleatoric_propagated_0.0_5 > logs_new/pubmed_gcn_educated_random_aleatoric_propagated_0.0_5.log &\n",
      "nohup python main.py model=gcn data=pubmed acquisition_strategy=educated_random data.num_splits=5 model.num_inits=5 print_summary=True model.cached=True seed=42 acquisition_strategy.adaptation_enabled=False acquisition_strategy.scale=1 acquisition_strategy.tta_enabled=False acquisition_strategy.top_percent=0.0 acquisition_strategy.low_percent=10 +acquisition_strategy.embedded_strategy=acquire_by_prediction_attribute +acquisition_strategy.embedded_strategy.higher_is_better=false +acquisition_strategy.embedded_strategy.attribute=MAX_SCORE +acquisition_strategy.embedded_strategy.propagated=True wandb.name=aleatoric_propagated_0.0_10 > logs_new/pubmed_gcn_educated_random_aleatoric_propagated_0.0_10.log &\n",
      "nohup python main.py model=gcn data=pubmed acquisition_strategy=educated_random data.num_splits=5 model.num_inits=5 print_summary=True model.cached=True seed=42 acquisition_strategy.adaptation_enabled=False acquisition_strategy.scale=1 acquisition_strategy.tta_enabled=False acquisition_strategy.top_percent=0.0 acquisition_strategy.low_percent=20 +acquisition_strategy.embedded_strategy=acquire_by_prediction_attribute +acquisition_strategy.embedded_strategy.higher_is_better=false +acquisition_strategy.embedded_strategy.attribute=MAX_SCORE +acquisition_strategy.embedded_strategy.propagated=True wandb.name=aleatoric_propagated_0.0_20 > logs_new/pubmed_gcn_educated_random_aleatoric_propagated_0.0_20.log &\n",
      "nohup python main.py model=gcn data=pubmed acquisition_strategy=educated_random data.num_splits=5 model.num_inits=5 print_summary=True model.cached=True seed=42 acquisition_strategy.adaptation_enabled=False acquisition_strategy.scale=1 acquisition_strategy.tta_enabled=False acquisition_strategy.top_percent=10.0 acquisition_strategy.low_percent=0 +acquisition_strategy.embedded_strategy=acquire_by_prediction_attribute +acquisition_strategy.embedded_strategy.higher_is_better=false +acquisition_strategy.embedded_strategy.attribute=MAX_SCORE +acquisition_strategy.embedded_strategy.propagated=True wandb.name=aleatoric_propagated_10.0_0 > logs_new/pubmed_gcn_educated_random_aleatoric_propagated_10.0_0.log &\n",
      "nohup python main.py model=gcn data=pubmed acquisition_strategy=educated_random data.num_splits=5 model.num_inits=5 print_summary=True model.cached=True seed=42 acquisition_strategy.adaptation_enabled=False acquisition_strategy.scale=1 acquisition_strategy.tta_enabled=False acquisition_strategy.top_percent=10.0 acquisition_strategy.low_percent=0.5 +acquisition_strategy.embedded_strategy=acquire_by_prediction_attribute +acquisition_strategy.embedded_strategy.higher_is_better=false +acquisition_strategy.embedded_strategy.attribute=MAX_SCORE +acquisition_strategy.embedded_strategy.propagated=True wandb.name=aleatoric_propagated_10.0_0.5 > logs_new/pubmed_gcn_educated_random_aleatoric_propagated_10.0_0.5.log &\n",
      "nohup python main.py model=gcn data=pubmed acquisition_strategy=educated_random data.num_splits=5 model.num_inits=5 print_summary=True model.cached=True seed=42 acquisition_strategy.adaptation_enabled=False acquisition_strategy.scale=1 acquisition_strategy.tta_enabled=False acquisition_strategy.top_percent=10.0 acquisition_strategy.low_percent=1 +acquisition_strategy.embedded_strategy=acquire_by_prediction_attribute +acquisition_strategy.embedded_strategy.higher_is_better=false +acquisition_strategy.embedded_strategy.attribute=MAX_SCORE +acquisition_strategy.embedded_strategy.propagated=True wandb.name=aleatoric_propagated_10.0_1 > logs_new/pubmed_gcn_educated_random_aleatoric_propagated_10.0_1.log &\n",
      "nohup python main.py model=gcn data=pubmed acquisition_strategy=educated_random data.num_splits=5 model.num_inits=5 print_summary=True model.cached=True seed=42 acquisition_strategy.adaptation_enabled=False acquisition_strategy.scale=1 acquisition_strategy.tta_enabled=False acquisition_strategy.top_percent=10.0 acquisition_strategy.low_percent=5 +acquisition_strategy.embedded_strategy=acquire_by_prediction_attribute +acquisition_strategy.embedded_strategy.higher_is_better=false +acquisition_strategy.embedded_strategy.attribute=MAX_SCORE +acquisition_strategy.embedded_strategy.propagated=True wandb.name=aleatoric_propagated_10.0_5 > logs_new/pubmed_gcn_educated_random_aleatoric_propagated_10.0_5.log &\n",
      "nohup python main.py model=gcn data=pubmed acquisition_strategy=educated_random data.num_splits=5 model.num_inits=5 print_summary=True model.cached=True seed=42 acquisition_strategy.adaptation_enabled=False acquisition_strategy.scale=1 acquisition_strategy.tta_enabled=False acquisition_strategy.top_percent=10.0 acquisition_strategy.low_percent=10 +acquisition_strategy.embedded_strategy=acquire_by_prediction_attribute +acquisition_strategy.embedded_strategy.higher_is_better=false +acquisition_strategy.embedded_strategy.attribute=MAX_SCORE +acquisition_strategy.embedded_strategy.propagated=True wandb.name=aleatoric_propagated_10.0_10 > logs_new/pubmed_gcn_educated_random_aleatoric_propagated_10.0_10.log &\n",
      "nohup python main.py model=gcn data=pubmed acquisition_strategy=educated_random data.num_splits=5 model.num_inits=5 print_summary=True model.cached=True seed=42 acquisition_strategy.adaptation_enabled=False acquisition_strategy.scale=1 acquisition_strategy.tta_enabled=False acquisition_strategy.top_percent=10.0 acquisition_strategy.low_percent=20 +acquisition_strategy.embedded_strategy=acquire_by_prediction_attribute +acquisition_strategy.embedded_strategy.higher_is_better=false +acquisition_strategy.embedded_strategy.attribute=MAX_SCORE +acquisition_strategy.embedded_strategy.propagated=True wandb.name=aleatoric_propagated_10.0_20 > logs_new/pubmed_gcn_educated_random_aleatoric_propagated_10.0_20.log &\n",
      "nohup python main.py model=gcn data=pubmed acquisition_strategy=educated_random data.num_splits=5 model.num_inits=5 print_summary=True model.cached=True seed=42 acquisition_strategy.adaptation_enabled=False acquisition_strategy.scale=1 acquisition_strategy.tta_enabled=False acquisition_strategy.top_percent=20.0 acquisition_strategy.low_percent=0 +acquisition_strategy.embedded_strategy=acquire_by_prediction_attribute +acquisition_strategy.embedded_strategy.higher_is_better=false +acquisition_strategy.embedded_strategy.attribute=MAX_SCORE +acquisition_strategy.embedded_strategy.propagated=True wandb.name=aleatoric_propagated_20.0_0 > logs_new/pubmed_gcn_educated_random_aleatoric_propagated_20.0_0.log &\n",
      "nohup python main.py model=gcn data=pubmed acquisition_strategy=educated_random data.num_splits=5 model.num_inits=5 print_summary=True model.cached=True seed=42 acquisition_strategy.adaptation_enabled=False acquisition_strategy.scale=1 acquisition_strategy.tta_enabled=False acquisition_strategy.top_percent=20.0 acquisition_strategy.low_percent=0.5 +acquisition_strategy.embedded_strategy=acquire_by_prediction_attribute +acquisition_strategy.embedded_strategy.higher_is_better=false +acquisition_strategy.embedded_strategy.attribute=MAX_SCORE +acquisition_strategy.embedded_strategy.propagated=True wandb.name=aleatoric_propagated_20.0_0.5 > logs_new/pubmed_gcn_educated_random_aleatoric_propagated_20.0_0.5.log &\n",
      "nohup python main.py model=gcn data=pubmed acquisition_strategy=educated_random data.num_splits=5 model.num_inits=5 print_summary=True model.cached=True seed=42 acquisition_strategy.adaptation_enabled=False acquisition_strategy.scale=1 acquisition_strategy.tta_enabled=False acquisition_strategy.top_percent=20.0 acquisition_strategy.low_percent=1 +acquisition_strategy.embedded_strategy=acquire_by_prediction_attribute +acquisition_strategy.embedded_strategy.higher_is_better=false +acquisition_strategy.embedded_strategy.attribute=MAX_SCORE +acquisition_strategy.embedded_strategy.propagated=True wandb.name=aleatoric_propagated_20.0_1 > logs_new/pubmed_gcn_educated_random_aleatoric_propagated_20.0_1.log &\n",
      "nohup python main.py model=gcn data=pubmed acquisition_strategy=educated_random data.num_splits=5 model.num_inits=5 print_summary=True model.cached=True seed=42 acquisition_strategy.adaptation_enabled=False acquisition_strategy.scale=1 acquisition_strategy.tta_enabled=False acquisition_strategy.top_percent=20.0 acquisition_strategy.low_percent=5 +acquisition_strategy.embedded_strategy=acquire_by_prediction_attribute +acquisition_strategy.embedded_strategy.higher_is_better=false +acquisition_strategy.embedded_strategy.attribute=MAX_SCORE +acquisition_strategy.embedded_strategy.propagated=True wandb.name=aleatoric_propagated_20.0_5 > logs_new/pubmed_gcn_educated_random_aleatoric_propagated_20.0_5.log &\n",
      "nohup python main.py model=gcn data=pubmed acquisition_strategy=educated_random data.num_splits=5 model.num_inits=5 print_summary=True model.cached=True seed=42 acquisition_strategy.adaptation_enabled=False acquisition_strategy.scale=1 acquisition_strategy.tta_enabled=False acquisition_strategy.top_percent=20.0 acquisition_strategy.low_percent=10 +acquisition_strategy.embedded_strategy=acquire_by_prediction_attribute +acquisition_strategy.embedded_strategy.higher_is_better=false +acquisition_strategy.embedded_strategy.attribute=MAX_SCORE +acquisition_strategy.embedded_strategy.propagated=True wandb.name=aleatoric_propagated_20.0_10 > logs_new/pubmed_gcn_educated_random_aleatoric_propagated_20.0_10.log &\n",
      "nohup python main.py model=gcn data=pubmed acquisition_strategy=educated_random data.num_splits=5 model.num_inits=5 print_summary=True model.cached=True seed=42 acquisition_strategy.adaptation_enabled=False acquisition_strategy.scale=1 acquisition_strategy.tta_enabled=False acquisition_strategy.top_percent=20.0 acquisition_strategy.low_percent=20 +acquisition_strategy.embedded_strategy=acquire_by_prediction_attribute +acquisition_strategy.embedded_strategy.higher_is_better=false +acquisition_strategy.embedded_strategy.attribute=MAX_SCORE +acquisition_strategy.embedded_strategy.propagated=True wandb.name=aleatoric_propagated_20.0_20 > logs_new/pubmed_gcn_educated_random_aleatoric_propagated_20.0_20.log &\n",
      "nohup python main.py model=gcn data=pubmed acquisition_strategy=educated_random data.num_splits=5 model.num_inits=5 print_summary=True model.cached=True seed=42 acquisition_strategy.adaptation_enabled=False acquisition_strategy.scale=1 acquisition_strategy.tta_enabled=False acquisition_strategy.top_percent=30.0 acquisition_strategy.low_percent=0 +acquisition_strategy.embedded_strategy=acquire_by_prediction_attribute +acquisition_strategy.embedded_strategy.higher_is_better=false +acquisition_strategy.embedded_strategy.attribute=MAX_SCORE +acquisition_strategy.embedded_strategy.propagated=True wandb.name=aleatoric_propagated_30.0_0 > logs_new/pubmed_gcn_educated_random_aleatoric_propagated_30.0_0.log &\n",
      "nohup python main.py model=gcn data=pubmed acquisition_strategy=educated_random data.num_splits=5 model.num_inits=5 print_summary=True model.cached=True seed=42 acquisition_strategy.adaptation_enabled=False acquisition_strategy.scale=1 acquisition_strategy.tta_enabled=False acquisition_strategy.top_percent=30.0 acquisition_strategy.low_percent=0.5 +acquisition_strategy.embedded_strategy=acquire_by_prediction_attribute +acquisition_strategy.embedded_strategy.higher_is_better=false +acquisition_strategy.embedded_strategy.attribute=MAX_SCORE +acquisition_strategy.embedded_strategy.propagated=True wandb.name=aleatoric_propagated_30.0_0.5 > logs_new/pubmed_gcn_educated_random_aleatoric_propagated_30.0_0.5.log &\n",
      "nohup python main.py model=gcn data=pubmed acquisition_strategy=educated_random data.num_splits=5 model.num_inits=5 print_summary=True model.cached=True seed=42 acquisition_strategy.adaptation_enabled=False acquisition_strategy.scale=1 acquisition_strategy.tta_enabled=False acquisition_strategy.top_percent=30.0 acquisition_strategy.low_percent=1 +acquisition_strategy.embedded_strategy=acquire_by_prediction_attribute +acquisition_strategy.embedded_strategy.higher_is_better=false +acquisition_strategy.embedded_strategy.attribute=MAX_SCORE +acquisition_strategy.embedded_strategy.propagated=True wandb.name=aleatoric_propagated_30.0_1 > logs_new/pubmed_gcn_educated_random_aleatoric_propagated_30.0_1.log &\n",
      "nohup python main.py model=gcn data=pubmed acquisition_strategy=educated_random data.num_splits=5 model.num_inits=5 print_summary=True model.cached=True seed=42 acquisition_strategy.adaptation_enabled=False acquisition_strategy.scale=1 acquisition_strategy.tta_enabled=False acquisition_strategy.top_percent=30.0 acquisition_strategy.low_percent=5 +acquisition_strategy.embedded_strategy=acquire_by_prediction_attribute +acquisition_strategy.embedded_strategy.higher_is_better=false +acquisition_strategy.embedded_strategy.attribute=MAX_SCORE +acquisition_strategy.embedded_strategy.propagated=True wandb.name=aleatoric_propagated_30.0_5 > logs_new/pubmed_gcn_educated_random_aleatoric_propagated_30.0_5.log &\n",
      "nohup python main.py model=gcn data=pubmed acquisition_strategy=educated_random data.num_splits=5 model.num_inits=5 print_summary=True model.cached=True seed=42 acquisition_strategy.adaptation_enabled=False acquisition_strategy.scale=1 acquisition_strategy.tta_enabled=False acquisition_strategy.top_percent=30.0 acquisition_strategy.low_percent=10 +acquisition_strategy.embedded_strategy=acquire_by_prediction_attribute +acquisition_strategy.embedded_strategy.higher_is_better=false +acquisition_strategy.embedded_strategy.attribute=MAX_SCORE +acquisition_strategy.embedded_strategy.propagated=True wandb.name=aleatoric_propagated_30.0_10 > logs_new/pubmed_gcn_educated_random_aleatoric_propagated_30.0_10.log &\n",
      "nohup python main.py model=gcn data=pubmed acquisition_strategy=educated_random data.num_splits=5 model.num_inits=5 print_summary=True model.cached=True seed=42 acquisition_strategy.adaptation_enabled=False acquisition_strategy.scale=1 acquisition_strategy.tta_enabled=False acquisition_strategy.top_percent=30.0 acquisition_strategy.low_percent=20 +acquisition_strategy.embedded_strategy=acquire_by_prediction_attribute +acquisition_strategy.embedded_strategy.higher_is_better=false +acquisition_strategy.embedded_strategy.attribute=MAX_SCORE +acquisition_strategy.embedded_strategy.propagated=True wandb.name=aleatoric_propagated_30.0_20 > logs_new/pubmed_gcn_educated_random_aleatoric_propagated_30.0_20.log &\n",
      "nohup python main.py model=gcn data=pubmed acquisition_strategy=educated_random data.num_splits=5 model.num_inits=5 print_summary=True model.cached=True seed=42 acquisition_strategy.adaptation_enabled=False acquisition_strategy.scale=1 acquisition_strategy.tta_enabled=False acquisition_strategy.top_percent=40.0 acquisition_strategy.low_percent=0 +acquisition_strategy.embedded_strategy=acquire_by_prediction_attribute +acquisition_strategy.embedded_strategy.higher_is_better=false +acquisition_strategy.embedded_strategy.attribute=MAX_SCORE +acquisition_strategy.embedded_strategy.propagated=True wandb.name=aleatoric_propagated_40.0_0 > logs_new/pubmed_gcn_educated_random_aleatoric_propagated_40.0_0.log &\n",
      "nohup python main.py model=gcn data=pubmed acquisition_strategy=educated_random data.num_splits=5 model.num_inits=5 print_summary=True model.cached=True seed=42 acquisition_strategy.adaptation_enabled=False acquisition_strategy.scale=1 acquisition_strategy.tta_enabled=False acquisition_strategy.top_percent=40.0 acquisition_strategy.low_percent=0.5 +acquisition_strategy.embedded_strategy=acquire_by_prediction_attribute +acquisition_strategy.embedded_strategy.higher_is_better=false +acquisition_strategy.embedded_strategy.attribute=MAX_SCORE +acquisition_strategy.embedded_strategy.propagated=True wandb.name=aleatoric_propagated_40.0_0.5 > logs_new/pubmed_gcn_educated_random_aleatoric_propagated_40.0_0.5.log &\n",
      "nohup python main.py model=gcn data=pubmed acquisition_strategy=educated_random data.num_splits=5 model.num_inits=5 print_summary=True model.cached=True seed=42 acquisition_strategy.adaptation_enabled=False acquisition_strategy.scale=1 acquisition_strategy.tta_enabled=False acquisition_strategy.top_percent=40.0 acquisition_strategy.low_percent=1 +acquisition_strategy.embedded_strategy=acquire_by_prediction_attribute +acquisition_strategy.embedded_strategy.higher_is_better=false +acquisition_strategy.embedded_strategy.attribute=MAX_SCORE +acquisition_strategy.embedded_strategy.propagated=True wandb.name=aleatoric_propagated_40.0_1 > logs_new/pubmed_gcn_educated_random_aleatoric_propagated_40.0_1.log &\n",
      "nohup python main.py model=gcn data=pubmed acquisition_strategy=educated_random data.num_splits=5 model.num_inits=5 print_summary=True model.cached=True seed=42 acquisition_strategy.adaptation_enabled=False acquisition_strategy.scale=1 acquisition_strategy.tta_enabled=False acquisition_strategy.top_percent=40.0 acquisition_strategy.low_percent=5 +acquisition_strategy.embedded_strategy=acquire_by_prediction_attribute +acquisition_strategy.embedded_strategy.higher_is_better=false +acquisition_strategy.embedded_strategy.attribute=MAX_SCORE +acquisition_strategy.embedded_strategy.propagated=True wandb.name=aleatoric_propagated_40.0_5 > logs_new/pubmed_gcn_educated_random_aleatoric_propagated_40.0_5.log &\n",
      "nohup python main.py model=gcn data=pubmed acquisition_strategy=educated_random data.num_splits=5 model.num_inits=5 print_summary=True model.cached=True seed=42 acquisition_strategy.adaptation_enabled=False acquisition_strategy.scale=1 acquisition_strategy.tta_enabled=False acquisition_strategy.top_percent=40.0 acquisition_strategy.low_percent=10 +acquisition_strategy.embedded_strategy=acquire_by_prediction_attribute +acquisition_strategy.embedded_strategy.higher_is_better=false +acquisition_strategy.embedded_strategy.attribute=MAX_SCORE +acquisition_strategy.embedded_strategy.propagated=True wandb.name=aleatoric_propagated_40.0_10 > logs_new/pubmed_gcn_educated_random_aleatoric_propagated_40.0_10.log &\n",
      "nohup python main.py model=gcn data=pubmed acquisition_strategy=educated_random data.num_splits=5 model.num_inits=5 print_summary=True model.cached=True seed=42 acquisition_strategy.adaptation_enabled=False acquisition_strategy.scale=1 acquisition_strategy.tta_enabled=False acquisition_strategy.top_percent=40.0 acquisition_strategy.low_percent=20 +acquisition_strategy.embedded_strategy=acquire_by_prediction_attribute +acquisition_strategy.embedded_strategy.higher_is_better=false +acquisition_strategy.embedded_strategy.attribute=MAX_SCORE +acquisition_strategy.embedded_strategy.propagated=True wandb.name=aleatoric_propagated_40.0_20 > logs_new/pubmed_gcn_educated_random_aleatoric_propagated_40.0_20.log &\n",
      "nohup python main.py model=gcn data=pubmed acquisition_strategy=educated_random data.num_splits=5 model.num_inits=5 print_summary=True model.cached=True seed=42 acquisition_strategy.adaptation_enabled=False acquisition_strategy.scale=1 acquisition_strategy.tta_enabled=False acquisition_strategy.top_percent=50.0 acquisition_strategy.low_percent=0 +acquisition_strategy.embedded_strategy=acquire_by_prediction_attribute +acquisition_strategy.embedded_strategy.higher_is_better=false +acquisition_strategy.embedded_strategy.attribute=MAX_SCORE +acquisition_strategy.embedded_strategy.propagated=True wandb.name=aleatoric_propagated_50.0_0 > logs_new/pubmed_gcn_educated_random_aleatoric_propagated_50.0_0.log &\n",
      "nohup python main.py model=gcn data=pubmed acquisition_strategy=educated_random data.num_splits=5 model.num_inits=5 print_summary=True model.cached=True seed=42 acquisition_strategy.adaptation_enabled=False acquisition_strategy.scale=1 acquisition_strategy.tta_enabled=False acquisition_strategy.top_percent=50.0 acquisition_strategy.low_percent=0.5 +acquisition_strategy.embedded_strategy=acquire_by_prediction_attribute +acquisition_strategy.embedded_strategy.higher_is_better=false +acquisition_strategy.embedded_strategy.attribute=MAX_SCORE +acquisition_strategy.embedded_strategy.propagated=True wandb.name=aleatoric_propagated_50.0_0.5 > logs_new/pubmed_gcn_educated_random_aleatoric_propagated_50.0_0.5.log &\n",
      "nohup python main.py model=gcn data=pubmed acquisition_strategy=educated_random data.num_splits=5 model.num_inits=5 print_summary=True model.cached=True seed=42 acquisition_strategy.adaptation_enabled=False acquisition_strategy.scale=1 acquisition_strategy.tta_enabled=False acquisition_strategy.top_percent=50.0 acquisition_strategy.low_percent=1 +acquisition_strategy.embedded_strategy=acquire_by_prediction_attribute +acquisition_strategy.embedded_strategy.higher_is_better=false +acquisition_strategy.embedded_strategy.attribute=MAX_SCORE +acquisition_strategy.embedded_strategy.propagated=True wandb.name=aleatoric_propagated_50.0_1 > logs_new/pubmed_gcn_educated_random_aleatoric_propagated_50.0_1.log &\n",
      "nohup python main.py model=gcn data=pubmed acquisition_strategy=educated_random data.num_splits=5 model.num_inits=5 print_summary=True model.cached=True seed=42 acquisition_strategy.adaptation_enabled=False acquisition_strategy.scale=1 acquisition_strategy.tta_enabled=False acquisition_strategy.top_percent=50.0 acquisition_strategy.low_percent=5 +acquisition_strategy.embedded_strategy=acquire_by_prediction_attribute +acquisition_strategy.embedded_strategy.higher_is_better=false +acquisition_strategy.embedded_strategy.attribute=MAX_SCORE +acquisition_strategy.embedded_strategy.propagated=True wandb.name=aleatoric_propagated_50.0_5 > logs_new/pubmed_gcn_educated_random_aleatoric_propagated_50.0_5.log &\n",
      "nohup python main.py model=gcn data=pubmed acquisition_strategy=educated_random data.num_splits=5 model.num_inits=5 print_summary=True model.cached=True seed=42 acquisition_strategy.adaptation_enabled=False acquisition_strategy.scale=1 acquisition_strategy.tta_enabled=False acquisition_strategy.top_percent=50.0 acquisition_strategy.low_percent=10 +acquisition_strategy.embedded_strategy=acquire_by_prediction_attribute +acquisition_strategy.embedded_strategy.higher_is_better=false +acquisition_strategy.embedded_strategy.attribute=MAX_SCORE +acquisition_strategy.embedded_strategy.propagated=True wandb.name=aleatoric_propagated_50.0_10 > logs_new/pubmed_gcn_educated_random_aleatoric_propagated_50.0_10.log &\n",
      "nohup python main.py model=gcn data=pubmed acquisition_strategy=educated_random data.num_splits=5 model.num_inits=5 print_summary=True model.cached=True seed=42 acquisition_strategy.adaptation_enabled=False acquisition_strategy.scale=1 acquisition_strategy.tta_enabled=False acquisition_strategy.top_percent=50.0 acquisition_strategy.low_percent=20 +acquisition_strategy.embedded_strategy=acquire_by_prediction_attribute +acquisition_strategy.embedded_strategy.higher_is_better=false +acquisition_strategy.embedded_strategy.attribute=MAX_SCORE +acquisition_strategy.embedded_strategy.propagated=True wandb.name=aleatoric_propagated_50.0_20 > logs_new/pubmed_gcn_educated_random_aleatoric_propagated_50.0_20.log &\n",
      "nohup python main.py model=gcn data=pubmed acquisition_strategy=educated_random data.num_splits=5 model.num_inits=5 print_summary=True model.cached=True seed=42 acquisition_strategy.adaptation_enabled=False acquisition_strategy.scale=1 acquisition_strategy.tta_enabled=False acquisition_strategy.top_percent=60.0 acquisition_strategy.low_percent=0 +acquisition_strategy.embedded_strategy=acquire_by_prediction_attribute +acquisition_strategy.embedded_strategy.higher_is_better=false +acquisition_strategy.embedded_strategy.attribute=MAX_SCORE +acquisition_strategy.embedded_strategy.propagated=True wandb.name=aleatoric_propagated_60.0_0 > logs_new/pubmed_gcn_educated_random_aleatoric_propagated_60.0_0.log &\n",
      "nohup python main.py model=gcn data=pubmed acquisition_strategy=educated_random data.num_splits=5 model.num_inits=5 print_summary=True model.cached=True seed=42 acquisition_strategy.adaptation_enabled=False acquisition_strategy.scale=1 acquisition_strategy.tta_enabled=False acquisition_strategy.top_percent=60.0 acquisition_strategy.low_percent=0.5 +acquisition_strategy.embedded_strategy=acquire_by_prediction_attribute +acquisition_strategy.embedded_strategy.higher_is_better=false +acquisition_strategy.embedded_strategy.attribute=MAX_SCORE +acquisition_strategy.embedded_strategy.propagated=True wandb.name=aleatoric_propagated_60.0_0.5 > logs_new/pubmed_gcn_educated_random_aleatoric_propagated_60.0_0.5.log &\n",
      "nohup python main.py model=gcn data=pubmed acquisition_strategy=educated_random data.num_splits=5 model.num_inits=5 print_summary=True model.cached=True seed=42 acquisition_strategy.adaptation_enabled=False acquisition_strategy.scale=1 acquisition_strategy.tta_enabled=False acquisition_strategy.top_percent=60.0 acquisition_strategy.low_percent=1 +acquisition_strategy.embedded_strategy=acquire_by_prediction_attribute +acquisition_strategy.embedded_strategy.higher_is_better=false +acquisition_strategy.embedded_strategy.attribute=MAX_SCORE +acquisition_strategy.embedded_strategy.propagated=True wandb.name=aleatoric_propagated_60.0_1 > logs_new/pubmed_gcn_educated_random_aleatoric_propagated_60.0_1.log &\n",
      "nohup python main.py model=gcn data=pubmed acquisition_strategy=educated_random data.num_splits=5 model.num_inits=5 print_summary=True model.cached=True seed=42 acquisition_strategy.adaptation_enabled=False acquisition_strategy.scale=1 acquisition_strategy.tta_enabled=False acquisition_strategy.top_percent=60.0 acquisition_strategy.low_percent=5 +acquisition_strategy.embedded_strategy=acquire_by_prediction_attribute +acquisition_strategy.embedded_strategy.higher_is_better=false +acquisition_strategy.embedded_strategy.attribute=MAX_SCORE +acquisition_strategy.embedded_strategy.propagated=True wandb.name=aleatoric_propagated_60.0_5 > logs_new/pubmed_gcn_educated_random_aleatoric_propagated_60.0_5.log &\n",
      "nohup python main.py model=gcn data=pubmed acquisition_strategy=educated_random data.num_splits=5 model.num_inits=5 print_summary=True model.cached=True seed=42 acquisition_strategy.adaptation_enabled=False acquisition_strategy.scale=1 acquisition_strategy.tta_enabled=False acquisition_strategy.top_percent=60.0 acquisition_strategy.low_percent=10 +acquisition_strategy.embedded_strategy=acquire_by_prediction_attribute +acquisition_strategy.embedded_strategy.higher_is_better=false +acquisition_strategy.embedded_strategy.attribute=MAX_SCORE +acquisition_strategy.embedded_strategy.propagated=True wandb.name=aleatoric_propagated_60.0_10 > logs_new/pubmed_gcn_educated_random_aleatoric_propagated_60.0_10.log &\n",
      "nohup python main.py model=gcn data=pubmed acquisition_strategy=educated_random data.num_splits=5 model.num_inits=5 print_summary=True model.cached=True seed=42 acquisition_strategy.adaptation_enabled=False acquisition_strategy.scale=1 acquisition_strategy.tta_enabled=False acquisition_strategy.top_percent=60.0 acquisition_strategy.low_percent=20 +acquisition_strategy.embedded_strategy=acquire_by_prediction_attribute +acquisition_strategy.embedded_strategy.higher_is_better=false +acquisition_strategy.embedded_strategy.attribute=MAX_SCORE +acquisition_strategy.embedded_strategy.propagated=True wandb.name=aleatoric_propagated_60.0_20 > logs_new/pubmed_gcn_educated_random_aleatoric_propagated_60.0_20.log &\n",
      "nohup python main.py model=gcn data=pubmed acquisition_strategy=educated_random data.num_splits=5 model.num_inits=5 print_summary=True model.cached=True seed=42 acquisition_strategy.adaptation_enabled=False acquisition_strategy.scale=1 acquisition_strategy.tta_enabled=False acquisition_strategy.top_percent=70.0 acquisition_strategy.low_percent=0 +acquisition_strategy.embedded_strategy=acquire_by_prediction_attribute +acquisition_strategy.embedded_strategy.higher_is_better=false +acquisition_strategy.embedded_strategy.attribute=MAX_SCORE +acquisition_strategy.embedded_strategy.propagated=True wandb.name=aleatoric_propagated_70.0_0 > logs_new/pubmed_gcn_educated_random_aleatoric_propagated_70.0_0.log &\n",
      "nohup python main.py model=gcn data=pubmed acquisition_strategy=educated_random data.num_splits=5 model.num_inits=5 print_summary=True model.cached=True seed=42 acquisition_strategy.adaptation_enabled=False acquisition_strategy.scale=1 acquisition_strategy.tta_enabled=False acquisition_strategy.top_percent=70.0 acquisition_strategy.low_percent=0.5 +acquisition_strategy.embedded_strategy=acquire_by_prediction_attribute +acquisition_strategy.embedded_strategy.higher_is_better=false +acquisition_strategy.embedded_strategy.attribute=MAX_SCORE +acquisition_strategy.embedded_strategy.propagated=True wandb.name=aleatoric_propagated_70.0_0.5 > logs_new/pubmed_gcn_educated_random_aleatoric_propagated_70.0_0.5.log &\n",
      "nohup python main.py model=gcn data=pubmed acquisition_strategy=educated_random data.num_splits=5 model.num_inits=5 print_summary=True model.cached=True seed=42 acquisition_strategy.adaptation_enabled=False acquisition_strategy.scale=1 acquisition_strategy.tta_enabled=False acquisition_strategy.top_percent=70.0 acquisition_strategy.low_percent=1 +acquisition_strategy.embedded_strategy=acquire_by_prediction_attribute +acquisition_strategy.embedded_strategy.higher_is_better=false +acquisition_strategy.embedded_strategy.attribute=MAX_SCORE +acquisition_strategy.embedded_strategy.propagated=True wandb.name=aleatoric_propagated_70.0_1 > logs_new/pubmed_gcn_educated_random_aleatoric_propagated_70.0_1.log &\n",
      "nohup python main.py model=gcn data=pubmed acquisition_strategy=educated_random data.num_splits=5 model.num_inits=5 print_summary=True model.cached=True seed=42 acquisition_strategy.adaptation_enabled=False acquisition_strategy.scale=1 acquisition_strategy.tta_enabled=False acquisition_strategy.top_percent=70.0 acquisition_strategy.low_percent=5 +acquisition_strategy.embedded_strategy=acquire_by_prediction_attribute +acquisition_strategy.embedded_strategy.higher_is_better=false +acquisition_strategy.embedded_strategy.attribute=MAX_SCORE +acquisition_strategy.embedded_strategy.propagated=True wandb.name=aleatoric_propagated_70.0_5 > logs_new/pubmed_gcn_educated_random_aleatoric_propagated_70.0_5.log &\n",
      "nohup python main.py model=gcn data=pubmed acquisition_strategy=educated_random data.num_splits=5 model.num_inits=5 print_summary=True model.cached=True seed=42 acquisition_strategy.adaptation_enabled=False acquisition_strategy.scale=1 acquisition_strategy.tta_enabled=False acquisition_strategy.top_percent=70.0 acquisition_strategy.low_percent=10 +acquisition_strategy.embedded_strategy=acquire_by_prediction_attribute +acquisition_strategy.embedded_strategy.higher_is_better=false +acquisition_strategy.embedded_strategy.attribute=MAX_SCORE +acquisition_strategy.embedded_strategy.propagated=True wandb.name=aleatoric_propagated_70.0_10 > logs_new/pubmed_gcn_educated_random_aleatoric_propagated_70.0_10.log &\n",
      "nohup python main.py model=gcn data=pubmed acquisition_strategy=educated_random data.num_splits=5 model.num_inits=5 print_summary=True model.cached=True seed=42 acquisition_strategy.adaptation_enabled=False acquisition_strategy.scale=1 acquisition_strategy.tta_enabled=False acquisition_strategy.top_percent=70.0 acquisition_strategy.low_percent=20 +acquisition_strategy.embedded_strategy=acquire_by_prediction_attribute +acquisition_strategy.embedded_strategy.higher_is_better=false +acquisition_strategy.embedded_strategy.attribute=MAX_SCORE +acquisition_strategy.embedded_strategy.propagated=True wandb.name=aleatoric_propagated_70.0_20 > logs_new/pubmed_gcn_educated_random_aleatoric_propagated_70.0_20.log &\n",
      "nohup python main.py model=gcn data=pubmed acquisition_strategy=educated_random data.num_splits=5 model.num_inits=5 print_summary=True model.cached=True seed=42 acquisition_strategy.adaptation_enabled=False acquisition_strategy.scale=1 acquisition_strategy.tta_enabled=False acquisition_strategy.top_percent=80.0 acquisition_strategy.low_percent=0 +acquisition_strategy.embedded_strategy=acquire_by_prediction_attribute +acquisition_strategy.embedded_strategy.higher_is_better=false +acquisition_strategy.embedded_strategy.attribute=MAX_SCORE +acquisition_strategy.embedded_strategy.propagated=True wandb.name=aleatoric_propagated_80.0_0 > logs_new/pubmed_gcn_educated_random_aleatoric_propagated_80.0_0.log &\n",
      "nohup python main.py model=gcn data=pubmed acquisition_strategy=educated_random data.num_splits=5 model.num_inits=5 print_summary=True model.cached=True seed=42 acquisition_strategy.adaptation_enabled=False acquisition_strategy.scale=1 acquisition_strategy.tta_enabled=False acquisition_strategy.top_percent=80.0 acquisition_strategy.low_percent=0.5 +acquisition_strategy.embedded_strategy=acquire_by_prediction_attribute +acquisition_strategy.embedded_strategy.higher_is_better=false +acquisition_strategy.embedded_strategy.attribute=MAX_SCORE +acquisition_strategy.embedded_strategy.propagated=True wandb.name=aleatoric_propagated_80.0_0.5 > logs_new/pubmed_gcn_educated_random_aleatoric_propagated_80.0_0.5.log &\n",
      "nohup python main.py model=gcn data=pubmed acquisition_strategy=educated_random data.num_splits=5 model.num_inits=5 print_summary=True model.cached=True seed=42 acquisition_strategy.adaptation_enabled=False acquisition_strategy.scale=1 acquisition_strategy.tta_enabled=False acquisition_strategy.top_percent=80.0 acquisition_strategy.low_percent=1 +acquisition_strategy.embedded_strategy=acquire_by_prediction_attribute +acquisition_strategy.embedded_strategy.higher_is_better=false +acquisition_strategy.embedded_strategy.attribute=MAX_SCORE +acquisition_strategy.embedded_strategy.propagated=True wandb.name=aleatoric_propagated_80.0_1 > logs_new/pubmed_gcn_educated_random_aleatoric_propagated_80.0_1.log &\n",
      "nohup python main.py model=gcn data=pubmed acquisition_strategy=educated_random data.num_splits=5 model.num_inits=5 print_summary=True model.cached=True seed=42 acquisition_strategy.adaptation_enabled=False acquisition_strategy.scale=1 acquisition_strategy.tta_enabled=False acquisition_strategy.top_percent=80.0 acquisition_strategy.low_percent=5 +acquisition_strategy.embedded_strategy=acquire_by_prediction_attribute +acquisition_strategy.embedded_strategy.higher_is_better=false +acquisition_strategy.embedded_strategy.attribute=MAX_SCORE +acquisition_strategy.embedded_strategy.propagated=True wandb.name=aleatoric_propagated_80.0_5 > logs_new/pubmed_gcn_educated_random_aleatoric_propagated_80.0_5.log &\n",
      "nohup python main.py model=gcn data=pubmed acquisition_strategy=educated_random data.num_splits=5 model.num_inits=5 print_summary=True model.cached=True seed=42 acquisition_strategy.adaptation_enabled=False acquisition_strategy.scale=1 acquisition_strategy.tta_enabled=False acquisition_strategy.top_percent=80.0 acquisition_strategy.low_percent=10 +acquisition_strategy.embedded_strategy=acquire_by_prediction_attribute +acquisition_strategy.embedded_strategy.higher_is_better=false +acquisition_strategy.embedded_strategy.attribute=MAX_SCORE +acquisition_strategy.embedded_strategy.propagated=True wandb.name=aleatoric_propagated_80.0_10 > logs_new/pubmed_gcn_educated_random_aleatoric_propagated_80.0_10.log &\n",
      "nohup python main.py model=gcn data=pubmed acquisition_strategy=educated_random data.num_splits=5 model.num_inits=5 print_summary=True model.cached=True seed=42 acquisition_strategy.adaptation_enabled=False acquisition_strategy.scale=1 acquisition_strategy.tta_enabled=False acquisition_strategy.top_percent=90.0 acquisition_strategy.low_percent=0 +acquisition_strategy.embedded_strategy=acquire_by_prediction_attribute +acquisition_strategy.embedded_strategy.higher_is_better=false +acquisition_strategy.embedded_strategy.attribute=MAX_SCORE +acquisition_strategy.embedded_strategy.propagated=True wandb.name=aleatoric_propagated_90.0_0 > logs_new/pubmed_gcn_educated_random_aleatoric_propagated_90.0_0.log &\n",
      "nohup python main.py model=gcn data=pubmed acquisition_strategy=educated_random data.num_splits=5 model.num_inits=5 print_summary=True model.cached=True seed=42 acquisition_strategy.adaptation_enabled=False acquisition_strategy.scale=1 acquisition_strategy.tta_enabled=False acquisition_strategy.top_percent=90.0 acquisition_strategy.low_percent=0.5 +acquisition_strategy.embedded_strategy=acquire_by_prediction_attribute +acquisition_strategy.embedded_strategy.higher_is_better=false +acquisition_strategy.embedded_strategy.attribute=MAX_SCORE +acquisition_strategy.embedded_strategy.propagated=True wandb.name=aleatoric_propagated_90.0_0.5 > logs_new/pubmed_gcn_educated_random_aleatoric_propagated_90.0_0.5.log &\n",
      "nohup python main.py model=gcn data=pubmed acquisition_strategy=educated_random data.num_splits=5 model.num_inits=5 print_summary=True model.cached=True seed=42 acquisition_strategy.adaptation_enabled=False acquisition_strategy.scale=1 acquisition_strategy.tta_enabled=False acquisition_strategy.top_percent=90.0 acquisition_strategy.low_percent=1 +acquisition_strategy.embedded_strategy=acquire_by_prediction_attribute +acquisition_strategy.embedded_strategy.higher_is_better=false +acquisition_strategy.embedded_strategy.attribute=MAX_SCORE +acquisition_strategy.embedded_strategy.propagated=True wandb.name=aleatoric_propagated_90.0_1 > logs_new/pubmed_gcn_educated_random_aleatoric_propagated_90.0_1.log &\n",
      "nohup python main.py model=gcn data=pubmed acquisition_strategy=educated_random data.num_splits=5 model.num_inits=5 print_summary=True model.cached=True seed=42 acquisition_strategy.adaptation_enabled=False acquisition_strategy.scale=1 acquisition_strategy.tta_enabled=False acquisition_strategy.top_percent=90.0 acquisition_strategy.low_percent=5 +acquisition_strategy.embedded_strategy=acquire_by_prediction_attribute +acquisition_strategy.embedded_strategy.higher_is_better=false +acquisition_strategy.embedded_strategy.attribute=MAX_SCORE +acquisition_strategy.embedded_strategy.propagated=True wandb.name=aleatoric_propagated_90.0_5 > logs_new/pubmed_gcn_educated_random_aleatoric_propagated_90.0_5.log &\n"
     ]
    }
   ],
   "source": [
    "with open(\"../scripts/educated_random_pubmed_alea.txt\", \"w\") as file:\n",
    "    for run in cartesian_product_educated_random_percentages:\n",
    "        top_percent, low_percent = run\n",
    "        prompt = generate_prompt_educated_random_by_pred_attribute_notta( \"pubmed\", \"gcn\",\"aleatoric_propagated\",top_percent, low_percent, 42)\n",
    "        print(prompt)\n",
    "        file.write(prompt + \"\\n\")"
   ]
  }
 ],
 "metadata": {
  "kernelspec": {
   "display_name": "uq_graph",
   "language": "python",
   "name": "python3"
  },
  "language_info": {
   "codemirror_mode": {
    "name": "ipython",
    "version": 3
   },
   "file_extension": ".py",
   "mimetype": "text/x-python",
   "name": "python",
   "nbconvert_exporter": "python",
   "pygments_lexer": "ipython3",
   "version": "3.11.10"
  }
 },
 "nbformat": 4,
 "nbformat_minor": 2
}
